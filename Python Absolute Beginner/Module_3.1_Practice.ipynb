{
 "cells": [
  {
   "cell_type": "markdown",
   "metadata": {},
   "source": [
    "# Module 3 Practice 1\n",
    "## Conditionals \n",
    "<font size=\"5\" color=\"#00A0B2\"  face=\"verdana\"> <B>Student will be able to</B></font>  \n",
    "- **control code flow with `if`... `else` conditional logic**  \n",
    "  - using Boolean string methods (`.isupper(), .isalpha(), .startswith()...`)  \n",
    "  - using comparision (`>, <, >=, <=, ==, !=`)  \n",
    "  - using Strings in comparisons  \n",
    "\n",
    "## `if else`\n"
   ]
  },
  {
   "cell_type": "code",
   "execution_count": 2,
   "metadata": {},
   "outputs": [
    {
     "name": "stdout",
     "output_type": "stream",
     "text": [
      "Input your age (use only whole numbers): 23\n",
      "Age's first type is:  <class 'int'>\n",
      "Age's second type is:  <class 'int'>\n",
      "In ten years you will be 33.\n"
     ]
    }
   ],
   "source": [
    "# [ ] input a variable: age as digit and cast to int\n",
    "# if age greater than or equal to 12 then print message on age in 10 years \n",
    "# or else print message \"It is good to be\" age\n",
    "age = int(input(\"Input your age (use only whole numbers): \"))\n",
    "print(\"Age's first type is: \",type(age))\n",
    "age = int(age)\n",
    "print(\"Age's second type is: \",type(age))\n",
    "\n",
    "if age >= 12:\n",
    "    print(\"In ten years you will be \"+str(age+10)+\".\")\n",
    "else:\n",
    "    print(\"It is good to be \"+str(age)+\".\")\n",
    "\n",
    "\n",
    "\n"
   ]
  },
  {
   "cell_type": "code",
   "execution_count": 8,
   "metadata": {},
   "outputs": [
    {
     "name": "stdout",
     "output_type": "stream",
     "text": [
      "Enter an number: 90\n",
      "90 is greater than 100: False\n"
     ]
    }
   ],
   "source": [
    "# [ ] input a number \n",
    "# if number IS a digit string then cast to int\n",
    "# print number \"greater than 100 is\" True/False\n",
    "# if number is NOT a digit string then message the user that \"only int is accepted\"\n",
    "number = int(input(\"Enter an number: \"))\n",
    "\n",
    "if number > 100:\n",
    "    print(str(number),\"is greater than 100:\",number > 100)\n",
    "elif number < 100:\n",
    "    print (str(number),\"is greater than 100:\",number > 100)\n",
    "else:\n",
    "    print('only int is accepted')\n",
    "\n"
   ]
  },
  {
   "cell_type": "markdown",
   "metadata": {},
   "source": [
    "### Guessing a letter A-Z  \n",
    "**check_guess()** takes 2 string arguments: **letter and guess** (both expect single alphabetical character)   \n",
    "    - if guess is not an alpha character print invalid and return False\n",
    "    - test and print if guess is \"high\" or \"low\" and return False\n",
    "    - test and print if guess is \"correct\" and return True"
   ]
  },
  {
   "cell_type": "code",
   "execution_count": 10,
   "metadata": {},
   "outputs": [],
   "source": [
    "# [ ] create check_guess()\n",
    "# call with test\n",
    "def check_guess(letter , guess):\n",
    "    if guess.isalpha():\n",
    "        if guess == letter:\n",
    "            print(guess,\"is correct!\")\n",
    "            return(True)\n",
    "        elif guess > letter:\n",
    "            print(guess,\"is too high.\")\n",
    "            return(False)\n",
    "        elif guess < letter:\n",
    "            print(guess, \"is too low.\") \n",
    "            return(False)\n",
    "        else:\n",
    "            print(guess,\"is not a valid input, try a letter (a-z).\")\n",
    "            return(False)\n",
    "    else:\n",
    "        print(letter,\"is not a valid input, try a letter (a-z).\")\n",
    "        return(False)\n"
   ]
  },
  {
   "cell_type": "code",
   "execution_count": 92,
   "metadata": {},
   "outputs": [
    {
     "name": "stdout",
     "output_type": "stream",
     "text": [
      "Enter a secret letter: B\n",
      "Enter a guess for the secret letter (a-z): b\n",
      "B is correct!\n"
     ]
    },
    {
     "data": {
      "text/plain": [
       "True"
      ]
     },
     "execution_count": 92,
     "metadata": {},
     "output_type": "execute_result"
    }
   ],
   "source": [
    "# [ ] call check_guess with user input\n",
    "letter = input(\"Enter a secret letter: \")\n",
    "letter = letter.upper()\n",
    "guess = input(\"Enter a guess for the secret letter (a-z): \")\n",
    "guess = guess.upper()\n",
    "\n",
    "check_guess(letter , guess)"
   ]
  },
  {
   "cell_type": "markdown",
   "metadata": {},
   "source": [
    "### Letter Guess\n",
    "**create letter_guess() function that gives user 3 guesses**\n",
    "- takes a letter character argument for the answer letter\n",
    "- gets user input for letter guess  \n",
    "- calls check_guess() with answer and guess\n",
    "- End letter_guess if \n",
    "    - check_guess() equals True, return True  \n",
    "    - or after 3 failed attempts, return False"
   ]
  },
  {
   "cell_type": "code",
   "execution_count": 21,
   "metadata": {
    "scrolled": true
   },
   "outputs": [
    {
     "name": "stdout",
     "output_type": "stream",
     "text": [
      "What letter do you want to guess?: a\n",
      "Enter a guess: b\n",
      "B is too high.\n",
      "try again\n",
      "Enter a guess: c\n",
      "C is too high.\n",
      "try again\n",
      "Enter a guess: a\n",
      "A is correct!\n"
     ]
    }
   ],
   "source": [
    "# [ ] create letter_guess() function, call the function to test\n",
    "def letter_guess(letter_answer , count):\n",
    "    if letter_answer.isalpha():\n",
    "        letter_answer = letter_answer.upper()\n",
    "        guess = input(\"Enter a guess: \")\n",
    "        guess = guess.upper()\n",
    "        didIguessit = check_guess(letter_answer , guess)\n",
    "        \n",
    "        if didIguessit == True:\n",
    "            return True\n",
    "        else:\n",
    "            count = count + 1 \n",
    "            if count < 3:\n",
    "                print('try again')\n",
    "                letter_guess(letter_answer , count)\n",
    "            else:\n",
    "                print(\"3 strikes and you're out! Sorry :(\")\n",
    "    \n",
    "letter_answer = input(\"What letter do you want to guess?: \")\n",
    "letter_guess(letter_answer , 0)"
   ]
  },
  {
   "cell_type": "markdown",
   "metadata": {},
   "source": [
    "### Pet Conversation\n",
    "**ask the user for a sentence about a pet and then reply**  \n",
    "- get user input in variable: about_pet\n",
    "- using a series of **if** statements respond with appropriate conversation\n",
    "  - check if \"dog\" is in the string about_pet (sample reply \"Ah, a dog\")\n",
    "  - check if \"cat\" is in the string about_pet\n",
    "  - check if 1 or more animal is in string about_pet\n",
    "- no need for **else**'s\n",
    "- finish with thanking for the story"
   ]
  },
  {
   "cell_type": "code",
   "execution_count": 6,
   "metadata": {},
   "outputs": [
    {
     "name": "stdout",
     "output_type": "stream",
     "text": [
      "Tell us soemthing about your pet: Snake\n",
      "I've always wanted a snake.\n",
      "Thank you for telling me about yours!\n"
     ]
    }
   ],
   "source": [
    "# [ ] complete pet conversation\n",
    "about_pet = input('Tell us soemthing about your pet: ')\n",
    "about_pet = about_pet.lower()\n",
    "if \"dog\" in about_pet:\n",
    "    print(\"OMG, I have two dogs that I love.\")\n",
    "    print(\"Thank you for telling me about yours!\")\n",
    "elif \"cat\" in about_pet:\n",
    "    print(\"People tend to not like cats, but I adore them.\")\n",
    "    print(\"Thank you for telling me about yours!\")\n",
    "elif \"snake\" in about_pet:\n",
    "    print(\"I've always wanted a snake.\")\n",
    "    print(\"Thank you for telling me about yours!\")\n"
   ]
  },
  {
   "cell_type": "markdown",
   "metadata": {},
   "source": [
    "# Module 3 Practice 2\n",
    "## conditionals, type, and mathematics extended   \n",
    "&nbsp;\n",
    "<font size=\"5\" color=\"#00A0B2\"  face=\"verdana\"> <B>Student will be able to</B></font>  \n",
    "- code more than two choices using **`elif`** \n",
    "- gather numeric input using type casting  \n",
    "- perform subtraction, multiplication and division operations in code  &nbsp;  \n"
   ]
  },
  {
   "cell_type": "markdown",
   "metadata": {},
   "source": [
    "# &nbsp;  \n",
    "<font size=\"6\" color=\"#B24C00\"  face=\"verdana\"> <B>Tasks</B></font>"
   ]
  },
  {
   "cell_type": "markdown",
   "metadata": {},
   "source": [
    "### Rainbow colors\n",
    "ask for input of a favorite rainbow color first letter: ROYGBIV  \n",
    "\n",
    "Using `if`, `elif`, and `else`:  \n",
    "- print the color matching the letter  \n",
    "    - R = Red  \n",
    "    - O = Orange  \n",
    "    - Y = Yellow  \n",
    "    - G = Green\n",
    "    - B = Blue\n",
    "    - I = Indigo\n",
    "    - V = Violet\n",
    "    - else print \"no match\"\n"
   ]
  },
  {
   "cell_type": "code",
   "execution_count": null,
   "metadata": {},
   "outputs": [],
   "source": [
    "# [ ] complete rainbow colors\n",
    "fav_color = input(\"Enter your favorite color, using the first intial from ROYGBIV: \")\n",
    "if \"R\" in fav_color:\n",
    "    print(\"Your favorite color is Red\")\n",
    "elif \"O\" in fav_color:\n",
    "    print(\"Your favorite color is Orange\")\n",
    "elif \"Y\" in fav_color:\n",
    "    print(\"Your favorite color is Yellow\")\n",
    "elif \"G\" in fav_color:\n",
    "    print(\"Your favorite color is Green\")\n",
    "elif \"B\" in fav_color:\n",
    "    print(\"Your favorite color is Blue\")\n",
    "elif \"I\" in fav_color:\n",
    "    print(\"Your favorite color is Indigo\")  \n",
    "elif \"V\" in fav_color: \n",
    "    print(\"Your favorite color is Violet\")\n",
    "else: \n",
    "    print(\"no match\")\n"
   ]
  },
  {
   "cell_type": "code",
   "execution_count": 64,
   "metadata": {},
   "outputs": [
    {
     "name": "stdout",
     "output_type": "stream",
     "text": [
      "Enter your favorite color, using the first intial from ROYGBIV: r\n",
      "Your favorite color is Red\n"
     ]
    }
   ],
   "source": [
    "# [ ] make the code above into a function rainbow_color() that has a string parameter,\n",
    "# get input and call the function and return the matching color as a string or \"no match\" message.\n",
    "# Call the function and print the return string.\n",
    "def rainbow_color(fav_color):\n",
    "    fav_color = input(\"Enter your favorite color, using the first intial from ROYGBIV: \")\n",
    "    fav_color = fav_color.upper()\n",
    "    if \"R\" in fav_color:\n",
    "        print(\"Your favorite color is Red\")\n",
    "    elif \"O\" in fav_color:\n",
    "        print(\"Your favorite color is Orange\")\n",
    "    elif \"Y\" in fav_color:\n",
    "        print(\"Your favorite color is Yellow\")\n",
    "    elif \"G\" in fav_color:\n",
    "        print(\"Your favorite color is Green\")\n",
    "    elif \"B\" in fav_color:\n",
    "        print(\"Your favorite color is Blue\")\n",
    "    elif \"I\" in fav_color:\n",
    "        print(\"Your favorite color is Indigo\")  \n",
    "    elif \"V\" in fav_color: \n",
    "        print(\"Your favorite color is Violet\")\n",
    "    else: \n",
    "        print(\"no match\")\n",
    "\n",
    "        \n",
    "rainbow_color(fav_color)\n",
    "    \n"
   ]
  },
  {
   "cell_type": "markdown",
   "metadata": {},
   "source": [
    "# &nbsp;  \n",
    "**Create function age_20() that adds or subtracts 20 from your age for a return value based on current age** (use `if`) \n",
    "- call the funtion with user input and then use the return value in a sentence  \n",
    "example `age_20(25)` returns **5**: \n",
    "> \"5 years old, 20 years difference from now\""
   ]
  },
  {
   "cell_type": "code",
   "execution_count": 36,
   "metadata": {},
   "outputs": [
    {
     "data": {
      "text/plain": [
       "'5 years old, 20 years difference from now'"
      ]
     },
     "execution_count": 36,
     "metadata": {},
     "output_type": "execute_result"
    }
   ],
   "source": [
    "# [ ] complete age_20()\n",
    "def age_20(current_age):\n",
    "    if current_age > 20:\n",
    "        return str(current_age - 20) + \" years old, 20 years difference from now\"\n",
    "        \n",
    "    else:\n",
    "        return str(current_age + 20) + \" years old, 20 years difference from now\"\n",
    "        \n",
    "age_20(25)\n"
   ]
  },
  {
   "cell_type": "markdown",
   "metadata": {},
   "source": [
    "**create a function rainbow_or_age that takes a string argument**\n",
    "- if argument is a digit return the value of calling age_20() with the str value cast as **`int`** \n",
    "- if argument is an alphabetical character return the value of calling rainbow_color() with the str\n",
    "- if neither return FALSE"
   ]
  },
  {
   "cell_type": "code",
   "execution_count": 65,
   "metadata": {},
   "outputs": [
    {
     "name": "stdout",
     "output_type": "stream",
     "text": [
      "Enter your favorite color, using the first intial from ROYGBIV: r\n",
      "Your favorite color is Red\n",
      "None\n",
      "False\n",
      "22 years old, 20 years difference from now\n",
      "Enter your favorite color, using the first intial from ROYGBIV: b\n",
      "Your favorite color is Blue\n",
      "None\n",
      "Enter your favorite color, using the first intial from ROYGBIV: v\n",
      "Your favorite color is Violet\n",
      "None\n"
     ]
    }
   ],
   "source": [
    "# [ ]  create rainbow_or_age()\n",
    "def rainbow_or_age(user_input):\n",
    "    if user_input.isdigit():\n",
    "        return age_20(int(user_input))\n",
    "    elif user_input.isalpha():\n",
    "        return rainbow_color(user_input)\n",
    "    else:\n",
    "        return False\n",
    "\n",
    "user_input = 'R'\n",
    "print(rainbow_or_age(user_input))\n",
    "user_input = '?'\n",
    "print(rainbow_or_age(user_input))\n",
    "user_input = '2'\n",
    "print(rainbow_or_age(user_input))\n",
    "user_input = 'V'\n",
    "print(rainbow_or_age(user_input))\n",
    "user_input = 'b'\n",
    "print(rainbow_or_age(user_input))"
   ]
  },
  {
   "cell_type": "code",
   "execution_count": 66,
   "metadata": {},
   "outputs": [
    {
     "name": "stdout",
     "output_type": "stream",
     "text": [
      "Enter a number: 1\n",
      "Enter another number: 2\n",
      "3\n"
     ]
    }
   ],
   "source": [
    "# [ ]  add 2 numbers from input using a cast to integer and display the answer \n",
    "num1 = int(input('Enter a number: '))\n",
    "num2 = int(input('Enter another number: '))\n",
    "print(num1 + num2)\n"
   ]
  },
  {
   "cell_type": "code",
   "execution_count": 68,
   "metadata": {},
   "outputs": [
    {
     "name": "stdout",
     "output_type": "stream",
     "text": [
      "Enter a number: 2\n",
      "Enter another number: 6\n",
      "the answer is 12\n"
     ]
    }
   ],
   "source": [
    "# [ ] Multiply 2 numbers from input using cast and save the answer as part of a string \"the answer is...\"\n",
    "# display the string using print\n",
    "num1 = int(input('Enter a number: '))\n",
    "num2 = int(input('Enter another number: '))\n",
    "mutiplication = num1 * num2\n",
    "print(\"the answer is\",mutiplication)\n"
   ]
  },
  {
   "cell_type": "code",
   "execution_count": 71,
   "metadata": {},
   "outputs": [
    {
     "name": "stdout",
     "output_type": "stream",
     "text": [
      "Enter a number: 3\n",
      "Enter another number: 3\n",
      "the answer is 3.0\n"
     ]
    }
   ],
   "source": [
    "# [ ] get input of 2 numbers and display the average: (num1 + num2) divided by 2\n",
    "num1 = int(input('Enter a number: '))\n",
    "num2 = int(input('Enter another number: '))\n",
    "average = ((num1 + num2)/2)\n",
    "print(\"the answer is\",average)"
   ]
  },
  {
   "cell_type": "code",
   "execution_count": 76,
   "metadata": {},
   "outputs": [
    {
     "name": "stdout",
     "output_type": "stream",
     "text": [
      "Enter a number: 8\n",
      "Enter another number: 1\n",
      "8 - 1 = 7\n"
     ]
    }
   ],
   "source": [
    "# [ ] get input of 2 numbers and subtract the largest from the smallest (use an if statement to see which is larger)\n",
    "# show the answer\n",
    "num1 = int(input('Enter a number: '))\n",
    "num2 = int(input('Enter another number: '))\n",
    "if num2 > num1:\n",
    "    print(str(num2),\"-\",str(num1),'=',num2 - num1)\n",
    "elif num1 > num2:\n",
    "    print(str(num1),\"-\",str(num2),'=',num1 - num2)\n"
   ]
  },
  {
   "cell_type": "code",
   "execution_count": 84,
   "metadata": {},
   "outputs": [
    {
     "name": "stdout",
     "output_type": "stream",
     "text": [
      "Enter a number: 5\n",
      "Enter another number: 2\n",
      "5 divided by 2 = 2.5\n"
     ]
    }
   ],
   "source": [
    "# [ ] Divide a larger number by a smaller number and print the integer part of the result\n",
    "# don't divide by zero! if a zero is input make the result zero\n",
    "# [ ] cast the answer to an integer to cut off the decimals and print the result\n",
    "num1 = int(input('Enter a number: '))\n",
    "num2 = int(input('Enter another number: '))\n",
    "if num2 > 0 and num1 > 0:\n",
    "    if num2 > num1:\n",
    "        print(str(num2),'divided by',str(num1),'=',num2 / num1)\n",
    "    elif num1 > num2:\n",
    "        print(str(num1),'divided by',str(num2),'=',num1 / num2)\n",
    "else:\n",
    "    print('When the numbers you entered are divided the result is zero')\n"
   ]
  },
  {
   "cell_type": "markdown",
   "metadata": {
    "collapsed": true
   },
   "source": [
    "[Terms of use](http://go.microsoft.com/fwlink/?LinkID=206977) &nbsp; [Privacy & cookies](https://go.microsoft.com/fwlink/?LinkId=521839) &nbsp; © 2017 Microsoft"
   ]
  }
 ],
 "metadata": {
  "anaconda-cloud": {},
  "kernelspec": {
   "display_name": "Python 3 (ipykernel)",
   "language": "python",
   "name": "python3"
  },
  "language_info": {
   "codemirror_mode": {
    "name": "ipython",
    "version": 3
   },
   "file_extension": ".py",
   "mimetype": "text/x-python",
   "name": "python",
   "nbconvert_exporter": "python",
   "pygments_lexer": "ipython3",
   "version": "3.11.5"
  }
 },
 "nbformat": 4,
 "nbformat_minor": 1
}

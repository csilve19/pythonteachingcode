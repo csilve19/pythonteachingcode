{
 "cells": [
  {
   "cell_type": "markdown",
   "metadata": {
    "collapsed": true
   },
   "source": [
    "#  Module 3 Required Coding Activity  \n",
    "Introduction to Python Unit 1 \n",
    "\n",
    "This is an activity based on code similar to the Jupyter Notebook **`Practice_MOD03_1-4_IntroPy.ipynb`** and **`Practice_MOD03_1-5_IntroPy.ipynb`** which you may have completed as practice.\n",
    "\n",
    ">This program requires the use of **`if, elif, else`**, and casting between strings and numbers. The program should use the various code syntax covered in module 3.  \n",
    "> \n",
    ">The program must result in print output using numeric input similar to that shown in the sample below.\n",
    ">You must include your full name in the input prompt. See sample input below for more detail.\n",
    "\n",
    "## Program: Cheese Order Function   \n",
    "- define function with max, min, price, and order_amount parameters\n",
    "- set default values for maximum and minimum order parameters  \n",
    "- set default value for price parameter\n",
    "- cast order_amount and other arguments to numbers  \n",
    "- check order_amount and give message checking against  \n",
    "  - over maximum\n",
    "  - under minimum\n",
    "- else within maximum and minimum give message with calculated price \n",
    "- call your function using order weight input from user\n",
    "\n",
    "\n",
    "Sample input and output:\n",
    "```\n",
    "[YOUR FULL NAME GOES HERE], enter cheese order weight (numeric value): 113\n",
    "113.0 is more than currently available stock\n",
    "```\n",
    "\n",
    "```\n",
    "[YOUR FULL NAME GOES HERE], enter cheese order weight (numeric value): .15\n",
    "0.15 is below minimum order amount\n",
    "```  \n",
    "\n",
    "```\n",
    "[YOUR FULL NAME GOES HERE], enter cheese order weight (numeric value): 2\n",
    "2.0 costs $15.98\n",
    "```  "
   ]
  },
  {
   "cell_type": "code",
   "execution_count": 75,
   "metadata": {},
   "outputs": [
    {
     "name": "stdout",
     "output_type": "stream",
     "text": [
      "Cameron Silvera-Robinson, enter cheese order weight (numeric value): 2\n",
      "2.0 costs $ 15.98\n"
     ]
    }
   ],
   "source": [
    "##### [ ] create fucntion, call and test\n",
    "\n",
    "order_amount = (input(\"Cameron Silvera-Robinson, enter cheese order weight (numeric value): \"))\n",
    "\n",
    "def cheese_order(order_amount, max_amount=35.0, min_amount=1.0, price=5.99):\n",
    "    order_amount = float(order_amount)\n",
    "    max_amount = float(max_amount)\n",
    "    min_amount = float(min_amount)\n",
    "    price = float(price)\n",
    "    \n",
    "    if order_amount > max_amount:\n",
    "        print(order_amount,\"is more than the current available stock\")\n",
    "    elif order_amount < min_amount:\n",
    "        print(order_amount,\"is below the minimum order amount\")  \n",
    "    else:\n",
    "        total_price = order_amount * price\n",
    "        print(order_amount,\"costs $\",float(total_price))\n",
    "\n",
    "        \n",
    "        \n",
    "cheese_order(order_amount,35.0,1.0,7.99)"
   ]
  },
  {
   "cell_type": "markdown",
   "metadata": {},
   "source": [
    "Submit this by creating a python file (.py) and submitting it in D2L. Be sure to test that it works."
   ]
  }
 ],
 "metadata": {
  "kernelspec": {
   "display_name": "Python 3 (ipykernel)",
   "language": "python",
   "name": "python3"
  },
  "language_info": {
   "codemirror_mode": {
    "name": "ipython",
    "version": 3
   },
   "file_extension": ".py",
   "mimetype": "text/x-python",
   "name": "python",
   "nbconvert_exporter": "python",
   "pygments_lexer": "ipython3",
   "version": "3.11.5"
  }
 },
 "nbformat": 4,
 "nbformat_minor": 1
}

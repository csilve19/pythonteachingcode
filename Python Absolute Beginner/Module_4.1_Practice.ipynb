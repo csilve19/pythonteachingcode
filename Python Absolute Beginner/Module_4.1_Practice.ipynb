{
 "cells": [
  {
   "cell_type": "markdown",
   "metadata": {},
   "source": [
    "# Module 4 Practice\n",
    "## Nested Conditionals\n",
    "<font size=\"5\" color=\"#00A0B2\"  face=\"verdana\"> <B>Student will be able to</B></font>\n",
    "- create nested conditional logic in code  \n",
    "- print format print using escape sequence (**\\**)"
   ]
  },
  {
   "cell_type": "markdown",
   "metadata": {},
   "source": [
    "# &nbsp;\n",
    "<font size=\"6\" color=\"#B24C00\"  face=\"verdana\"> <B>Tasks</B></font>  "
   ]
  },
  {
   "cell_type": "code",
   "execution_count": 5,
   "metadata": {},
   "outputs": [
    {
     "name": "stdout",
     "output_type": "stream",
     "text": [
      "The new line character is \"\\n\"\n"
     ]
    }
   ],
   "source": [
    "# [ ] print a string that outputs the following exactly: The new line character is \"\\n\"\n",
    "print(\"The new line character is \\\"\\\\n\\\"\")\n"
   ]
  },
  {
   "cell_type": "code",
   "execution_count": 9,
   "metadata": {},
   "outputs": [
    {
     "name": "stdout",
     "output_type": "stream",
     "text": [
      "\"That's how we escape!\"\n"
     ]
    }
   ],
   "source": [
    "# [ ] print output that is exactly (with quotes): \"That's how we escape!\"\n",
    "print(\"\\\"That's how we escape!\\\"\")\n"
   ]
  },
  {
   "cell_type": "code",
   "execution_count": 13,
   "metadata": {},
   "outputs": [
    {
     "name": "stdout",
     "output_type": "stream",
     "text": [
      "1\tone\n",
      "22\ttwo\n",
      "333\tthree\n"
     ]
    }
   ],
   "source": [
    "# [ ] with only 1 print statement and using No Space Characters, output the text commented below  \n",
    "\n",
    "# 1       one\n",
    "# 22      two\n",
    "# 333     three\n",
    "print(\"1\\tone\\n22\\ttwo\\n333\\tthree\")\n"
   ]
  },
  {
   "cell_type": "markdown",
   "metadata": {},
   "source": [
    "# &nbsp;\n",
    "## Program: quote_me() Function\n",
    "quote_me takes a string argument and returns a string that will display surrounded with **added double quotes** if printed  \n",
    "- check if passed string starts with a double quote (`\"\\\"\"`), then surround string with single quotations \n",
    "- if the passed string starts with single quote, or if doesn't start with a quotation mark, then surround with double quotations  \n",
    "\n",
    "Test the function code passing string input as the argument to quote_me() "
   ]
  },
  {
   "cell_type": "code",
   "execution_count": 30,
   "metadata": {},
   "outputs": [
    {
     "name": "stdout",
     "output_type": "stream",
     "text": [
      "Let me qoute you: 'hello'\n",
      "\"'hello'\"\n"
     ]
    }
   ],
   "source": [
    "# [ ] create and test quote_me()\n",
    "def qoute_me():\n",
    "    qoute = input(\"Let me qoute you: \")\n",
    "    if qoute.startswith(\"\\\"\"):\n",
    "        print(\"'\" + qoute + \"'\")\n",
    "    else: \n",
    "        print(\"\\\"\" + qoute + \"\\\"\")\n",
    "qoute_me()"
   ]
  },
  {
   "cell_type": "markdown",
   "metadata": {},
   "source": [
    "# &nbsp;\n",
    "### Program: shirt order \n",
    "First get input for color and size  \n",
    "- White has sizes L, M \n",
    "- Blue has sizes M, S  \n",
    "\n",
    "print available or unavailable, then  \n",
    "print the order confirmation of color and size  \n",
    "\n",
    "*\n",
    "**hint**: set a variable \"available = False\" before nested if statements and  \n",
    "change to True if color and size are avaliable*"
   ]
  },
  {
   "cell_type": "code",
   "execution_count": 75,
   "metadata": {},
   "outputs": [
    {
     "name": "stdout",
     "output_type": "stream",
     "text": [
      "Choose a color (\"blue\" or \"white\"): white\n",
      "Insert the size of the shirt you are looking for (\"S\",\"M\",\"L\"): s\n",
      "Size S is unavailable: White has sizes L, M\n"
     ]
    }
   ],
   "source": [
    "# [ ] create shirt order using nested if \n",
    "color = input(\"Choose a color (\\\"blue\\\" or \\\"white\\\"): \")\n",
    "size = input(\"Insert the size of the shirt you are looking for (\\\"S\\\",\\\"M\\\",\\\"L\\\"): \")\n",
    "\n",
    "available = False\n",
    "while True:\n",
    "    if color.lower() == \"white\":\n",
    "        if size.upper() == \"L\":\n",
    "            print(\"Available\") \n",
    "            print(\"A\",color,\"shirt is available in\",size.upper())\n",
    "            break\n",
    "        elif size.upper() == \"M\":\n",
    "            print(\"Available\") \n",
    "            print(\"A\",color,\"shirt is available in\",size.upper())\n",
    "            break\n",
    "        else:\n",
    "            print(\"Size\",size.upper(),\"is unavailable: White has sizes L, M\")\n",
    "            break\n",
    "    elif color.lower() == \"blue\":\n",
    "        if  size.upper() == \"S\":\n",
    "            print(\"Available\") \n",
    "            print(\"A\",color,\"shirt is available in\",size.upper())\n",
    "            break\n",
    "        elif size.upper() == \"M\":\n",
    "            print(\"Available\")\n",
    "            print(\"A\",color,\"shirt is available in\",size.upper())\n",
    "            break\n",
    "        else:\n",
    "            print(\"Size\",size.upper(),\"is unavailable: Blue has sizes M, S\")\n",
    "            break\n",
    "    else:\n",
    "        print(\"The only color options are blue and white, please choose one of the two.\")\n",
    "        break"
   ]
  },
  {
   "cell_type": "markdown",
   "metadata": {},
   "source": [
    "# &nbsp;\n",
    "## Program: str_analysis() Function\n",
    "Create the str_analysis() function that takes a string argument.  In the body of the function:\n",
    "- Check `if` string is digits  \n",
    "  - if digits: convert to `int` and check `if` greater than 99  \n",
    "    - if greater than 99, print a message about a \"big number\"  \n",
    "    - if not greater than 99, print message about \"small number\"    \n",
    "  - if not digits: check if string isalpha\n",
    "    - if isalpha print message about being all alpha\n",
    "    - if not isalpha print a message about being neither all alpha nor all digit  \n",
    "    \n",
    "call the function with a string from user input "
   ]
  },
  {
   "cell_type": "code",
   "execution_count": 96,
   "metadata": {},
   "outputs": [
    {
     "name": "stdout",
     "output_type": "stream",
     "text": [
      "Enter a number: 4\n",
      "4 is probably a small number\n"
     ]
    }
   ],
   "source": [
    "# [ ] create and test str_analysis()\n",
    "user_input = input(\"Enter a number: \")  \n",
    "\n",
    "def str_analysis(user_input):\n",
    "    if user_input.isdigit():\n",
    "        if int(user_input) >= 99:\n",
    "            print(user_input,\"must be a big number!\")\n",
    "        else:\n",
    "            print (user_input,\"is probably a small number\")\n",
    "    elif user_input.isalpha():\n",
    "        print(user_input,\"is all alpha try again\",)\n",
    "    else:\n",
    "        print(user_input,\"is neither all alpha nor all digit, try again\")\n",
    " \n",
    "str_analysis(user_input)       "
   ]
  },
  {
   "cell_type": "markdown",
   "metadata": {
    "collapsed": true
   },
   "source": [
    "# &nbsp;  \n",
    "### Program: ticket_check() - finds out if a seat is available  \n",
    "Call ticket_check() function with 2 arguments: *section* and *seats* requested and return True or False  \n",
    "- **section** is a string and expects: general, floor\n",
    "- **seats** is an integer and expects: 1 - 10  \n",
    "\n",
    "Check for valid section and seats\n",
    "- if section is *general* (or use startswith \"g\")  \n",
    "  - if seats is 1-10 return True \n",
    "- if section is *floor* (or use starts with \"f\")\n",
    "  - if seats is 1-4 return True  \n",
    "\n",
    "otherwise return False"
   ]
  },
  {
   "cell_type": "code",
   "execution_count": 116,
   "metadata": {},
   "outputs": [
    {
     "name": "stdout",
     "output_type": "stream",
     "text": [
      "What sectin would you like to be in (\"general\" or \"floor\"): floor\n",
      "How many seats do you want?: 5\n",
      "5 seat(s) in Floor are not availaible\n"
     ]
    },
    {
     "data": {
      "text/plain": [
       "False"
      ]
     },
     "execution_count": 116,
     "metadata": {},
     "output_type": "execute_result"
    }
   ],
   "source": [
    "# [ ] create and call ticket_check()\n",
    "#Call ticket_check() function with 2 arguments: section and seats requested and return True or False\n",
    "section = input(\"What sectin would you like to be in (\\\"general\\\" or \\\"floor\\\"): \")\n",
    "seats = input(\"How many seats do you want?: \")\n",
    "def ticket(section, seats): \n",
    "    if section.lower().startswith(\"g\"):\n",
    "            if 1 <= int(seats) <= 10:\n",
    "                print(seats,\"seat(s) in\",section.title(),\"are availaible\")\n",
    "                return True\n",
    "            else:\n",
    "                print(seats,\"seat(s) in\",section.title(),\"are not availaible\")\n",
    "                return False\n",
    "    elif section.lower().startswith(\"f\"):\n",
    "            if 1 <= int(seats) <= 4:\n",
    "                print(seats,\"seat(s) in\",section.title(),\"are availaible\")\n",
    "                return True\n",
    "            else:\n",
    "                print(seats,\"seat(s) in\",section.title(),\"are not availaible\")\n",
    "                return False\n",
    "    else:\n",
    "        print(\"Unfornately the seats you wanted are not avaialble.\")\n",
    "        return False \n",
    "\n",
    "ticket(section, seats)"
   ]
  },
  {
   "cell_type": "markdown",
   "metadata": {},
   "source": [
    "# Module 4 Practice 2\n",
    "## `while()` loops & increments\n",
    "<font size=\"5\" color=\"#00A0B2\"  face=\"verdana\"> <B>Student will be able to</B></font>\n",
    "- create forever loops using `while` and `break`\n",
    "- use incrementing variables in a while loop\n",
    "- control while loops using Boolean operators"
   ]
  },
  {
   "cell_type": "code",
   "execution_count": 123,
   "metadata": {},
   "outputs": [
    {
     "name": "stdout",
     "output_type": "stream",
     "text": [
      "Enter an integer to add to sum or type \"quit\" to quit): 1\n",
      "\n",
      "1\n",
      "Enter an integer to add to sum or type \"quit\" to quit): quit\n",
      "\n",
      "\"quit\" detected, exiting\n"
     ]
    }
   ],
   "source": [
    "# [ ] use a \"forever\" while loop to get user input of integers to add to sum, \n",
    "# until a non-digit is entered, then break the loop and print sum\n",
    "sum = 0\n",
    "\n",
    "while True:\n",
    "    input_int = input(\"Enter an integer to add to sum or type \\\"quit\\\" to quit): \") \n",
    "    print()   \n",
    "    if input_int.isdigit():\n",
    "        sum = int(input_int) + sum\n",
    "        print(sum)\n",
    "        \n",
    "    else:\n",
    "        print('\"quit\" detected, exiting')\n",
    "        break\n"
   ]
  },
  {
   "cell_type": "code",
   "execution_count": 147,
   "metadata": {},
   "outputs": [
    {
     "name": "stdout",
     "output_type": "stream",
     "text": [
      "guess the color of the rainbow: burgundy\n",
      "Burgundy is incorrect burgundy\n",
      "guess the color of the rainbow: blue\n",
      "Blue is correct!\n",
      "\n"
     ]
    }
   ],
   "source": [
    "# [ ] use a while True loop (forever loop) to give 4 chances for input of a correct color in a rainbow\n",
    "# rainbow = \"red orange yellow green blue indigo violet\"\n",
    "guess_count = 0 \n",
    "while True:\n",
    "    rainbow = \"red orange yellow green blue indigo violet\"\n",
    "    rainbow_guess = input(\"guess the color of the rainbow: \")\n",
    "    if rainbow_guess.lower() in rainbow:\n",
    "        print(rainbow_guess.title(),\"is correct!\\n\")\n",
    "        break\n",
    "    else:\n",
    "        print(rainbow_guess.title(),\"is incorrect\",rainbow_guess)\n",
    "        guess_count = guess_count + 1\n",
    "    if guess_count == 4:\n",
    "        print(\"\\nRUH ROH, looks like your out of guesses\")\n",
    "        break"
   ]
  },
  {
   "cell_type": "code",
   "execution_count": null,
   "metadata": {},
   "outputs": [
    {
     "name": "stdout",
     "output_type": "stream",
     "text": [
      "Please input a book title: book title\n",
      "Let's try again with title case. book title\n"
     ]
    }
   ],
   "source": [
    "# [ ] Get input for a book title, keep looping while input is Not in title format (title is every word capitalized)\n",
    "title = \"\"\n",
    "\n",
    "while True: \n",
    "    title = input(\"Please input a book title: \")\n",
    "    if title == title.title():\n",
    "        break\n",
    "    else: \n",
    "        print(\"Let's try again with title case.\", title)\n",
    "print(\"The title you entered\"+\", \"+title+\", \"+\"is in title case.\")"
   ]
  },
  {
   "cell_type": "code",
   "execution_count": 186,
   "metadata": {},
   "outputs": [
    {
     "name": "stdout",
     "output_type": "stream",
     "text": [
      "What is 24 divided by 3?\n",
      "Insert your solution in number form here: 7\n",
      "7 is not correct, let's try again.\n",
      "Insert your solution in number form here: 8\n",
      "CORRECT! 24 divided by 3 equals 8\n"
     ]
    }
   ],
   "source": [
    "# [ ] create a math quiz question and ask for the solution until the input is correct\n",
    "print(\"What is 24 divided by 3?\")\n",
    "solution = 24/3\n",
    "while True:\n",
    "    guess = input(\"Insert your solution in number form here: \")\n",
    "    if int(guess) == solution:\n",
    "        print(\"CORRECT! 24 divided by 3 equals\",guess)\n",
    "        break\n",
    "    else:\n",
    "        print(guess, \"is not correct, let's try again.\")\n"
   ]
  },
  {
   "cell_type": "markdown",
   "metadata": {},
   "source": [
    "### Fix the Error"
   ]
  },
  {
   "cell_type": "code",
   "execution_count": 97,
   "metadata": {},
   "outputs": [
    {
     "name": "stdout",
     "output_type": "stream",
     "text": [
      "enter tickets remaining (0 to quit): 3\n",
      "you win!\n",
      "enter tickets remaining (0 to quit): 1\n",
      "sorry, not a winner.\n",
      "enter tickets remaining (0 to quit): 0\n",
      "Game ended\n"
     ]
    }
   ],
   "source": [
    "# [ ] review the code, run, fix the error\n",
    "tickets = int(input(\"enter tickets remaining (0 to quit): \"))\n",
    "\n",
    "while tickets > 0:\n",
    "        # if tickets are multiple of 3 then \"winner\"\n",
    "    if int(tickets/3) == tickets/3:\n",
    "        print(\"you win!\")\n",
    "    else:\n",
    "        print(\"sorry, not a winner.\")\n",
    "    tickets = int(input(\"enter tickets remaining (0 to quit): \"))\n",
    "\n",
    "print(\"Game ended\")\n",
    "    \n"
   ]
  },
  {
   "cell_type": "markdown",
   "metadata": {},
   "source": [
    "### create a function: quiz_item()  that asks a question and tests if input is correct  \n",
    "- quiz_item()has 2 parameter **strings**: question and solution  \n",
    "- shows question, gets answer input  \n",
    "- returns True if `answer == solution` or continues to ask question until correct answer is provided  \n",
    "- use a while loop\n",
    "\n",
    "create 2 or more quiz questions that call quiz_item()  \n",
    "**Hint**: provide multiple choice or T/F answers"
   ]
  },
  {
   "cell_type": "code",
   "execution_count": 200,
   "metadata": {},
   "outputs": [
    {
     "name": "stdout",
     "output_type": "stream",
     "text": [
      "What is the first month of the year?\n",
      "Insert your answer here: January\n",
      "CORRECT!\n",
      "\n",
      "In computing, what does RAM stand for? Options (\"Read As Math\", \"Random-Access Memory\",\n",
      "\"Repair A Machine\", or \"Race Against Mankind\")\n",
      "Insert your answer here: race against mankind\n",
      "\"Race Against Mankind\" is incorrect. Let's try again.\n",
      "\n",
      "In computing, what does RAM stand for? Options (\"Read As Math\", \"Random-Access Memory\",\n",
      "\"Repair A Machine\", or \"Race Against Mankind\")\n",
      "Insert your answer here: random-access memory\n",
      "CORRECT!\n",
      "\n"
     ]
    },
    {
     "data": {
      "text/plain": [
       "True"
      ]
     },
     "execution_count": 200,
     "metadata": {},
     "output_type": "execute_result"
    }
   ],
   "source": [
    "# Create quiz_item() and 2 or more quiz questions that call quiz_item()\n",
    "def quiz_item(question, solution):\n",
    "    while True: \n",
    "        print(question)\n",
    "        answer = input(\"Insert your answer here: \")\n",
    "        if answer.lower() == solution.lower():\n",
    "            print (\"CORRECT!\\n\")\n",
    "            return True\n",
    "        else:\n",
    "            print(\"\\\"\"+answer.title()+\"\\\"\"+\" is incorrect. Let's try again.\\n\")\n",
    "        \n",
    "question1 = \"What is the first month of the year?\"\n",
    "solution1 = \"January\"\n",
    "\n",
    "question2 = \"In computing, what does RAM stand for? Options (\\\"Read As Math\\\", \\\"Random-Access Memory\\\",\\n\\\"Repair A Machine\\\", or \\\"Race Against Mankind\\\")\"\n",
    "solution2 = \"Random-access memory\"\n",
    "    \n",
    "#quiz_item()has 2 parameter strings: question and solution\n",
    "\n",
    "quiz_item(question1,solution1)\n",
    "quiz_item(question2,solution2)\n"
   ]
  },
  {
   "cell_type": "markdown",
   "metadata": {
    "collapsed": true
   },
   "source": [
    "[Terms of use](http://go.microsoft.com/fwlink/?LinkID=206977) &nbsp; [Privacy & cookies](https://go.microsoft.com/fwlink/?LinkId=521839) &nbsp; © 2017 Microsoft"
   ]
  }
 ],
 "metadata": {
  "anaconda-cloud": {},
  "kernelspec": {
   "display_name": "Python 3 (ipykernel)",
   "language": "python",
   "name": "python3"
  },
  "language_info": {
   "codemirror_mode": {
    "name": "ipython",
    "version": 3
   },
   "file_extension": ".py",
   "mimetype": "text/x-python",
   "name": "python",
   "nbconvert_exporter": "python",
   "pygments_lexer": "ipython3",
   "version": "3.11.5"
  }
 },
 "nbformat": 4,
 "nbformat_minor": 1
}

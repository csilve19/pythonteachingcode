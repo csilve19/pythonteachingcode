{
 "cells": [
  {
   "cell_type": "markdown",
   "metadata": {},
   "source": [
    "#  Module 2 Required Coding Activity  \n",
    "Introduction to Python (Unit 2) Fundamentals \n",
    " \n",
    "Be sure to complete all tutorials and practice prior to attempting this activity.  \n",
    "\n",
    "| Important Assignment Requirements |  \n",
    "|:-------------------------------|  \n",
    "| **NOTE:** This program requires creating a function using **`def`** and **`return`**, using **`print`** output, **`input`**, **`if`**, **`in`** keywords, **`.append()`**, **`.pop()`**, **`.remove()`** list methods.  Be sure to include your full name in the prompts. See the example input below for more detail. |   \n",
    "\n",
    "## Program: list-o-matic  \n",
    "This program takes string input and checks if that string is in a list of strings    \n",
    "- if string is in the list it removes the first instance from list  \n",
    "- if string is not in the list the input gets appended to the list  \n",
    "- if the string is empty then the last item is popped from the list \n",
    "- if the **list becomes empty** the program ends  \n",
    "- if the user enters \"quit\" then the program ends  \n",
    "\n",
    "program has 2 parts  \n",
    "- **program flow** which can be modified to ask for a specific type of item.  This is the programmers choice.  Add a list of fish, trees, books, movies, songs.... your choice.  \n",
    "- **list-o-matic** Function which takes arguments of a string and a list.  The function modifies the list and returns a message as seen below.  \n",
    "\n",
    "![Flowchart of List-o-Matic](images/list_o_matic.png)\n",
    "\n",
    "**[ ]** initialize a list with several strings at the beginning of the program flow and follow the flow chart and output examples\n",
    "\n",
    " *example input/output*  \n",
    " ```\n",
    "Welcome, [YOUR NAME GOES HERE]. Look at all the animals ['cat', 'goat', 'cat']\n",
    "enter the name of an animal: horse\n",
    "1 instance of horse appended to list\n",
    "\n",
    "Welcome, [YOUR NAME GOES HERE]. Look at all the animals ['cat', 'goat', 'cat', 'horse']\n",
    "enter the name of an animal: cat\n",
    "1 instance of cat removed from list\n",
    "\n",
    "Welcome, [YOUR NAME GOES HERE]. Look at all the animals ['goat', 'cat', 'horse']\n",
    "enter the name of an animal: cat\n",
    "1 instance of cat removed from list\n",
    "\n",
    "Welcome, [YOUR NAME GOES HERE]. Look at all the animals ['goat', 'horse']\n",
    "enter the name of an animal:          (<-- entered empty string)\n",
    "horse popped from list\n",
    "\n",
    "Welcome, [YOUR NAME GOES HERE]. Look at all the animals ['goat']\n",
    "enter the name of an animal:          (<-- entered empty string)\n",
    "goat popped from list\n",
    "\n",
    "Goodbye!\n",
    "```  \n",
    "\n",
    "*example 2*\n",
    "```\n",
    "Welcome, [YOUR NAME GOES HERE]. Look at all the animals ['cat', 'goat', 'cat']\n",
    "enter the name of an animal: Quit\n",
    "Goodbye!\n",
    "```  \n",
    "\n"
   ]
  },
  {
   "cell_type": "code",
   "execution_count": 36,
   "metadata": {},
   "outputs": [
    {
     "name": "stdout",
     "output_type": "stream",
     "text": [
      "Welcome, Cameron Silvera-Robinson. Here are my favorite songs['Not Enough', 'I Want You', 'Beach Song']\n",
      "Enter songs I should listen to or enter \"Quit\" to exit: i can and i will\n",
      "1 instance of I Can And I Will appended to list\n",
      "\n",
      "Welcome, Cameron Silvera-Robinson. Here are my favorite songs['Not Enough', 'I Want You', 'Beach Song', 'I Can And I Will']\n",
      "Enter songs I should listen to or enter \"Quit\" to exit: not enough\n",
      "Not Enough has been removed from list\n",
      "\n",
      "Welcome, Cameron Silvera-Robinson. Here are my favorite songs['I Want You', 'Beach Song', 'I Can And I Will']\n",
      "Enter songs I should listen to or enter \"Quit\" to exit: beach song\n",
      "Beach Song has been removed from list\n",
      "\n",
      "Welcome, Cameron Silvera-Robinson. Here are my favorite songs['I Want You', 'I Can And I Will']\n",
      "Enter songs I should listen to or enter \"Quit\" to exit: \n",
      "I Can And I Will popped from list\n",
      "\n",
      "Welcome, Cameron Silvera-Robinson. Here are my favorite songs['I Want You']\n",
      "Enter songs I should listen to or enter \"Quit\" to exit: \n",
      "I Want You popped from list\n",
      "\n",
      "That's all  folks.\n"
     ]
    }
   ],
   "source": [
    "# [] create list-o-matic as a function and call it\n",
    "# [] be sure to include your spelled-out name in the welcome prompt\n",
    "# [] you are welcome to use any list you like for list-o-matic, does not have to be animals \n",
    "song_list = [\"Not Enough\", \"I Want You\", \"Beach Song\"]\n",
    "\n",
    "def list_o_matic(): \n",
    "    while song_list:\n",
    "        new_song = input(\"Welcome, Cameron Silvera-Robinson. Here are my favorite songs\" + str(song_list) + \"\\nEnter songs I should listen to or enter \\\"Quit\\\" to exit: \")\n",
    "        if new_song.upper() == \"Q\":\n",
    "            print(\"GOODBYE! Thanks for the songs!\")\n",
    "            break \n",
    "        elif new_song == \"\":\n",
    "            popped_song = song_list.pop()\n",
    "            print(popped_song.title(), \"popped from list\\n\")\n",
    "        elif new_song.title() in song_list:\n",
    "            index_to_remove = song_list.index(new_song.title())\n",
    "            del song_list[index_to_remove]\n",
    "            print(new_song.title(),\"has been removed from list\\n\")\n",
    "        elif new_song.title() not in song_list:\n",
    "            song_list.append(new_song.title())\n",
    "            print(\"1 instance of\",new_song.title(),\"appended to list\\n\")\n",
    "    print(\"That's all  folks.\")\n",
    "\n",
    "\n",
    "    \n",
    "list_o_matic()\n"
   ]
  },
  {
   "cell_type": "markdown",
   "metadata": {},
   "source": [
    "Submit this by creating a python file (.py) and submitting it in D2L. Be sure to test that it works.\n"
   ]
  }
 ],
 "metadata": {
  "anaconda-cloud": {},
  "kernelspec": {
   "display_name": "Python 3 (ipykernel)",
   "language": "python",
   "name": "python3"
  },
  "language_info": {
   "codemirror_mode": {
    "name": "ipython",
    "version": 3
   },
   "file_extension": ".py",
   "mimetype": "text/x-python",
   "name": "python",
   "nbconvert_exporter": "python",
   "pygments_lexer": "ipython3",
   "version": "3.11.5"
  }
 },
 "nbformat": 4,
 "nbformat_minor": 1
}

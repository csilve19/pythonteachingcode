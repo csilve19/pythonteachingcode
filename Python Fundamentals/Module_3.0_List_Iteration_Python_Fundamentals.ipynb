{
 "cells": [
  {
   "cell_type": "markdown",
   "metadata": {},
   "source": [
    "# Python Fundamentals Module 3: List Iteration (P2M3)\n",
    "\"iteration\" going through the items \n",
    "# The Power of List Iteration\n",
    "- **for in: `for` loop using `in`**\n",
    "- for range: **`for range(start,stop,step)`** \n",
    "- more list methods: **`.extend()`, `+, .reverse(), .sort()`**   \n",
    "- strings to lists, **`.split()`**, and list to strings, **`.join()`**   \n",
    "\n",
    "\n",
    "----- \n",
    "\n",
    "><font size=\"5\" color=\"#00A0B2\"  face=\"verdana\"> <B>Student will be able to</B></font>  \n",
    "- **Iterate through Lists** using **`for`** with **`in`**\n",
    "- Use **`for range()`** in looping operations  \n",
    "- Use list methods **`.extend()`, `+, .reverse(), .sort()`**  \n",
    "- convert between lists and strings using  **`.split()`** and **`.join()`**  "
   ]
  },
  {
   "cell_type": "markdown",
   "metadata": {
    "collapsed": true
   },
   "source": [
    "# &nbsp;\n",
    "<font size=\"6\" color=\"#00A0B2\"  face=\"verdana\"> <B>Concepts</B></font>\n",
    "## Iterate through Lists using \n",
    "# ` for in`\n",
    "[![view video](images/play.svg)](https://youtu.be/J_Hmj7W_nzU)\n",
    "```python\n",
    "cities = [\"New York\", \"Shanghai\", \"Munich\", \"Tokyo\", \"Dubai\", \"Mexico City\", \"São Paulo\", \"Hyderabad\"]\n",
    "\n",
    "for city in cities:\n",
    "    print(city)\n",
    "```"
   ]
  },
  {
   "cell_type": "markdown",
   "metadata": {},
   "source": [
    "\n",
    "<font size=\"4\" color=\"#00A0B2\"  face=\"verdana\"> <B>Examples</B></font>"
   ]
  },
  {
   "cell_type": "code",
   "execution_count": 21,
   "metadata": {},
   "outputs": [
    {
     "name": "stdout",
     "output_type": "stream",
     "text": [
      "New York\n",
      "Shanghai\n",
      "Munich\n",
      "Tokyo\n",
      "Dubai\n",
      "Mexico City\n",
      "São Paulo\n",
      "Hyderabad\n"
     ]
    }
   ],
   "source": [
    "# [ ] review and run example\n",
    "cities = [\"New York\", \"Shanghai\", \"Munich\", \"Tokyo\", \"Dubai\", \"Mexico City\", \"São Paulo\", \"Hyderabad\"]\n",
    "\n",
    "for city in cities:\n",
    "    print(city)"
   ]
  },
  {
   "cell_type": "code",
   "execution_count": 7,
   "metadata": {},
   "outputs": [
    {
     "name": "stdout",
     "output_type": "stream",
     "text": [
      "total sales: 124\n"
     ]
    }
   ],
   "source": [
    "# [ ] review and run example\n",
    "sales = [6, 8, 9, 11, 12, 17, 19, 20, 22]\n",
    "total = 0\n",
    "\n",
    "for sale in sales:\n",
    "    total += sale\n",
    "    \n",
    "print(\"total sales:\", total)\n",
    "    \n"
   ]
  },
  {
   "cell_type": "markdown",
   "metadata": {},
   "source": [
    "change the iterator variable name from \"sale\" to \"dollars\" or to any valid name"
   ]
  },
  {
   "cell_type": "code",
   "execution_count": 8,
   "metadata": {},
   "outputs": [
    {
     "name": "stdout",
     "output_type": "stream",
     "text": [
      "total sales: 124\n"
     ]
    }
   ],
   "source": [
    "# [ ] review and run example \n",
    "sales = [6, 8, 9, 11, 12, 17, 19, 20, 22]\n",
    "total = 0\n",
    "\n",
    "for dollars in sales:\n",
    "    total += dollars\n",
    "    \n",
    "print(\"total sales:\", total)"
   ]
  },
  {
   "cell_type": "markdown",
   "metadata": {
    "collapsed": true
   },
   "source": [
    "# &nbsp;\n",
    "<font size=\"6\" color=\"#B24C00\"  face=\"verdana\"> <B>Task 1</B></font>\n",
    "\n",
    "### Iterate through Lists using `in`"
   ]
  },
  {
   "cell_type": "code",
   "execution_count": 14,
   "metadata": {},
   "outputs": [
    {
     "name": "stdout",
     "output_type": "stream",
     "text": [
      "Pigeon\n",
      "Dove\n",
      "Swan\n",
      "Jay\n"
     ]
    }
   ],
   "source": [
    "# [ ] create a list of 4 to 6 strings: birds\n",
    "# print each bird in the list\n",
    "birds = [\"Pigeon\",\"Dove\",\"Swan\",\"Jay\"]\n",
    "\n",
    "for bird in birds:\n",
    "    print(bird)\n"
   ]
  },
  {
   "cell_type": "code",
   "execution_count": 3,
   "metadata": {},
   "outputs": [
    {
     "name": "stdout",
     "output_type": "stream",
     "text": [
      "total sales: 1395\n"
     ]
    }
   ],
   "source": [
    "# [ ]  create a list of 7 integers: player_points\n",
    "# [ ] print double the points for each point value\n",
    "player_points = [2, 56, 78, 65, 120, 1029, 45]\n",
    "total = 0\n",
    "\n",
    "for point in player_points:\n",
    "    total += point\n",
    "    \n",
    "print(\"total sales:\", total)\n"
   ]
  },
  {
   "cell_type": "code",
   "execution_count": 17,
   "metadata": {},
   "outputs": [
    {
     "name": "stdout",
     "output_type": "stream",
     "text": [
      "Long string: Pigeon Dove Swan Jay \n"
     ]
    }
   ],
   "source": [
    "# [ ] create long_string by concatenating the items in the \"birds\" list previously created\n",
    "# print long_string - make sure to put a space betweeen the bird names\n",
    "long_string = \"\"\n",
    "for bird in birds:\n",
    "    long_string += bird + \" \"\n",
    "\n",
    "print(\"Long string:\",long_string)"
   ]
  },
  {
   "cell_type": "markdown",
   "metadata": {},
   "source": [
    "# &nbsp;\n",
    "<font size=\"6\" color=\"#00A0B2\"  face=\"verdana\"> <B>Concepts</B></font>\n",
    "## Sort and Filter\n",
    "### use comparison operators while iterating lists\n"
   ]
  },
  {
   "cell_type": "markdown",
   "metadata": {},
   "source": [
    "\n",
    "<font size=\"4\" color=\"#00A0B2\"  face=\"verdana\"> <B>Examples</B></font>"
   ]
  },
  {
   "cell_type": "code",
   "execution_count": 9,
   "metadata": {},
   "outputs": [
    {
     "name": "stdout",
     "output_type": "stream",
     "text": [
      "\n",
      "calcaneus\n",
      "talus\n",
      "cuboid\n",
      "navicular\n",
      "\n",
      "lateral cuneiform\n",
      "intermediate cuneiform\n",
      "medial cuneiform\n"
     ]
    }
   ],
   "source": [
    "# [ ] review and run example of sorting into strings to display\n",
    "foot_bones = [\"calcaneus\", \"talus\", \"cuboid\", \"navicular\", \"lateral cuneiform\", \n",
    "            \"intermediate cuneiform\", \"medial cuneiform\"]\n",
    "longer_names = \"\"\n",
    "shorter_names = \"\"\n",
    "\n",
    "for bone_name in foot_bones:\n",
    "    if len(bone_name) < 10:\n",
    "        shorter_names += \"\\n\" + bone_name\n",
    "    else:\n",
    "        longer_names += \"\\n\" + bone_name\n",
    "\n",
    "print(shorter_names)\n",
    "print(longer_names)\n"
   ]
  },
  {
   "cell_type": "code",
   "execution_count": 10,
   "metadata": {},
   "outputs": [
    {
     "name": "stdout",
     "output_type": "stream",
     "text": [
      "['calcaneus', 'talus', 'cuboid', 'navicular']\n",
      "['lateral cuneiform', 'intermediate cuneiform', 'medial cuneiform']\n"
     ]
    }
   ],
   "source": [
    "# [ ] review and run example of sorting into lists\n",
    "foot_bones = [\"calcaneus\", \"talus\", \"cuboid\", \"navicular\", \"lateral cuneiform\", \n",
    "            \"intermediate cuneiform\", \"medial cuneiform\"]\n",
    "longer_names = []\n",
    "shorter_names = []\n",
    "\n",
    "for bone_name in foot_bones:\n",
    "    if len(bone_name) < 10:\n",
    "        shorter_names.append(bone_name)\n",
    "    else:\n",
    "        longer_names.append(bone_name)\n",
    "\n",
    "print(shorter_names)\n",
    "print(longer_names)"
   ]
  },
  {
   "cell_type": "markdown",
   "metadata": {
    "collapsed": true
   },
   "source": [
    "# &nbsp;\n",
    "<font size=\"6\" color=\"#B24C00\"  face=\"verdana\"> <B>Task 2</B></font>\n",
    "\n",
    "## sort and filter"
   ]
  },
  {
   "cell_type": "code",
   "execution_count": 28,
   "metadata": {},
   "outputs": [
    {
     "name": "stdout",
     "output_type": "stream",
     "text": [
      "Cities that start with an \"M\" ['Munich', 'Mexico City']\n"
     ]
    }
   ],
   "source": [
    "# [ ] Using cities from the example above iterate throught the list using \"for\"/\"in\"\n",
    "# [ ] Print only cities starting with \"m\"\n",
    "\n",
    "m_cities = []\n",
    "\n",
    "for city in cities:\n",
    "    if city.startswith(\"M\"):\n",
    "        m_cities.append(city)\n",
    "              \n",
    "print(\"Cities that start with an \\\"M\\\"\",m_cities)"
   ]
  },
  {
   "cell_type": "code",
   "execution_count": 29,
   "metadata": {},
   "outputs": [
    {
     "name": "stdout",
     "output_type": "stream",
     "text": [
      "[]\n",
      "['New York', 'Shanghai', 'Munich', 'Tokyo', 'Dubai', 'Mexico City', 'São Paulo', 'Hyderabad']\n"
     ]
    }
   ],
   "source": [
    "# [ ] Using cities from the example above iterate throught the list using \"for\"/\"in\"\n",
    "# cities = [\"New York\", \"Shanghai\", \"Munich\", \"Tokyo\", \"Dubai\", \"Mexico City\", \"São Paulo\", \"Hyderabad\"]\n",
    "# [ ] sort into lists with \"A\" in the city name and without \"A\" in the name: a_city & no_a_city\n",
    "\n",
    "a_city = []\n",
    "no_a_city = []\n",
    "\n",
    "for city in cities:\n",
    "    if city.startswith(\"A\"):\n",
    "        a_city.append(city)\n",
    "    else: \n",
    "        no_a_city.append(city)\n",
    "        \n",
    "print(a_city)\n",
    "print(no_a_city)"
   ]
  },
  {
   "cell_type": "markdown",
   "metadata": {
    "collapsed": true
   },
   "source": [
    "# &nbsp;\n",
    "<font size=\"6\" color=\"#00A0B2\"  face=\"verdana\"> <B>Concepts</B></font>  \n",
    "## More iteration of lists\n",
    "## - Counting\n",
    "## - Searching\n",
    "\n",
    "### use string methods while iterating lists"
   ]
  },
  {
   "cell_type": "markdown",
   "metadata": {},
   "source": [
    "\n",
    "<font size=\"4\" color=\"#00A0B2\"  face=\"verdana\"> <B>Examples</B></font>"
   ]
  },
  {
   "cell_type": "code",
   "execution_count": 13,
   "metadata": {},
   "outputs": [
    {
     "name": "stdout",
     "output_type": "stream",
     "text": [
      "The total # of \"e\" found in the list is 3\n"
     ]
    }
   ],
   "source": [
    "# [ ] review and run example\n",
    "# iterates the \"cities\" list, count & sum letter \"a\" in each city name\n",
    "\n",
    "cities = [\"New York\", \"Shanghai\", \"Munich\", \"Tokyo\", \"Dubai\", \"Mexico City\", \"São Paulo\", \"Hyderabad\"]\n",
    "search_letter = \"a\"\n",
    "total = 0\n",
    "\n",
    "for city_name in cities:\n",
    "    total += city_name.lower().count(search_letter)\n",
    "\n",
    "print(\"The total # of \\\"\" + search_letter + \"\\\" found in the list is\", total)"
   ]
  },
  {
   "cell_type": "markdown",
   "metadata": {},
   "source": [
    "<font size=\"4\" color=\"#00A0B2\"  face=\"verdana\"> <B>search function</B></font>"
   ]
  },
  {
   "cell_type": "code",
   "execution_count": 14,
   "metadata": {},
   "outputs": [
    {
     "name": "stdout",
     "output_type": "stream",
     "text": [
      "enter a city visited: new york\n",
      "new york in default cities is True\n",
      "new york in visitied_cites list is True\n"
     ]
    }
   ],
   "source": [
    "# [ ] review and run example\n",
    "# city_search function has a default list of cities to search\n",
    "def city_search(search_item, cities = [\"New York\", \"Shanghai\", \"Munich\", \"Tokyo\"] ):\n",
    "    for city in cities:\n",
    "        if city.lower() == search_item.lower():\n",
    "            return True\n",
    "        else:\n",
    "            # go to the next item\n",
    "            pass\n",
    "    # no more items in list\n",
    "    return False\n",
    "\n",
    "# a list of cities\n",
    "visited_cities = [\"New York\", \"Shanghai\", \"Munich\", \"Tokyo\", \"Dubai\", \"Mexico City\", \"São Paulo\", \"Hyderabad\"]\n",
    "\n",
    "search = input(\"enter a city visited: \")\n",
    "\n",
    "# Search the default city list\n",
    "print(search, \"in default cities is\", city_search(search))\n",
    "\n",
    "# search the list visited_cities using 2nd argument\n",
    "print(search, \"in visited_cites list is\", city_search(search,visited_cities))"
   ]
  },
  {
   "cell_type": "markdown",
   "metadata": {},
   "source": [
    "# &nbsp;\n",
    "<font size=\"6\" color=\"#B24C00\"  face=\"verdana\"> <B>Task 3</B></font>  \n",
    "## Program: Paint Stock  \n",
    "check a list for a paint color request and print status of color \"found\"/\"not found\"\n",
    "- create list, paint_colors, with 5+ colors\n",
    "- get user input of string:color_request\n",
    "- iterate through each color in paint_colors to check for a match with color_request"
   ]
  },
  {
   "cell_type": "code",
   "execution_count": 50,
   "metadata": {},
   "outputs": [
    {
     "name": "stdout",
     "output_type": "stream",
     "text": [
      "enter a color (en español por favor): rojo\n",
      "rojo was found\n"
     ]
    },
    {
     "data": {
      "text/plain": [
       "True"
      ]
     },
     "execution_count": 50,
     "metadata": {},
     "output_type": "execute_result"
    }
   ],
   "source": [
    "# [ ] complete paint stock\n",
    "def paint_stock(input_item, paint_colors=[\"verde\", \"rojo\", \"amarillo\", \"blanco\", \"rosa\"]):\n",
    "    for color in paint_colors:\n",
    "        if color.lower() == input_item.lower():\n",
    "            print(input_item, \"was found\")\n",
    "            return True\n",
    "    print(input_item, \"was not found\")\n",
    "    return False\n",
    "\n",
    "color_request = input(\"enter a color (en español por favor): \")\n",
    "\n",
    "paint_stock(color_request)\n",
    "            "
   ]
  },
  {
   "cell_type": "markdown",
   "metadata": {
    "collapsed": true
   },
   "source": [
    "# &nbsp;\n",
    "<font size=\"6\" color=\"#B24C00\"  face=\"verdana\"> <B>Task 4</B></font>  \n",
    "## Program: Foot Bones Quiz\n",
    "**Create a function** that will iterate through foot_bones looking for a match of a string argument\n",
    "- Call the function 2 times with the name of a footbone \n",
    "- print immediate feedback for each answer (correct - incorrect)\n",
    "- print the total # of foot_bones identified\n",
    "\n",
    "\n",
    "The program will use the foot_bones list:\n",
    "```python \n",
    "foot_bones = [\"calcaneus\", \"talus\", \"cuboid\", \"navicular\", \"lateral cuneiform\",\n",
    "             \"intermediate cuneiform\", \"medial cuneiform\"]\n",
    "```\n",
    "Bonus: remove correct response item from list if correct so user cannot answer same item twice"
   ]
  },
  {
   "cell_type": "code",
   "execution_count": 82,
   "metadata": {},
   "outputs": [
    {
     "name": "stdout",
     "output_type": "stream",
     "text": [
      "Enter the name of a foot bone (or 'exit' to end the quiz): talus\n",
      "Correct! That is a foot bone.\n",
      "You identified 1 out of the 7 foot bones.\n",
      "\n",
      "Enter the name of a foot bone (or 'exit' to end the quiz): exit\n",
      "Quiz ended. You identified 1 out of the 7 foot bones.\n"
     ]
    }
   ],
   "source": [
    "# [ ] Complete Foot Bones Quiz\n",
    "def foot_bones_quiz():\n",
    "    foot_bones = [\"calcaneus\", \"talus\", \"cuboid\", \"navicular\", \"lateral cuneiform\", \"intermediate cuneiform\", \"medial cuneiform\"]\n",
    "    total = 0\n",
    "    \n",
    "    while foot_bones:\n",
    "        quiz_input = input(\"Enter the name of a foot bone (or 'exit' to end the quiz): \")\n",
    "        \n",
    "        if quiz_input.lower() == 'exit':\n",
    "            break  \n",
    "        \n",
    "        if quiz_input.lower() in [bone.lower() for bone in foot_bones]:\n",
    "            total += 1\n",
    "            correct_bone = [bone for bone in foot_bones if bone.lower() == quiz_input.lower()][0]\n",
    "            print(\"Correct! That is a foot bone.\")\n",
    "            print(\"You identified\", total, \"out of the 7 foot bones.\\n\")\n",
    "        else:\n",
    "            print(\"Sorry, that is not a foot bone. Try again.\")\n",
    "\n",
    "    print(\"Quiz ended. You identified\", total, \"out of the 7 foot bones.\")\n",
    "\n",
    "foot_bones_quiz()"
   ]
  },
  {
   "cell_type": "code",
   "execution_count": 85,
   "metadata": {},
   "outputs": [
    {
     "name": "stdout",
     "output_type": "stream",
     "text": [
      "Enter the name of a foot bone (or 'exit' to end the quiz): talus\n",
      "Correct! That is a foot bone.\n",
      "You identified 1 out of the 7 foot bones.\n",
      "\n",
      "Enter the name of a foot bone (or 'exit' to end the quiz): talus\n",
      "Sorry, that is not a foot bone. Try again.\n",
      "\n",
      "Enter the name of a foot bone (or 'exit' to end the quiz): exit\n",
      "Quiz ended. You identified 1 out of the 7 foot bones.\n"
     ]
    }
   ],
   "source": [
    "# [ ] bonus version\n",
    "def foot_bones_quiz():\n",
    "    foot_bones = [\"calcaneus\", \"talus\", \"cuboid\", \"navicular\", \"lateral cuneiform\", \"intermediate cuneiform\", \"medial cuneiform\"]\n",
    "    total = 0\n",
    "    \n",
    "    while foot_bones:\n",
    "        quiz_input = input(\"Enter the name of a foot bone (or 'exit' to end the quiz): \")\n",
    "        \n",
    "        if quiz_input.lower() == 'exit':\n",
    "            break  \n",
    "        \n",
    "        if quiz_input.lower() in [bone.lower() for bone in foot_bones]:\n",
    "            total += 1\n",
    "            correct_bone = [bone for bone in foot_bones if bone.lower() == quiz_input.lower()][0]\n",
    "            foot_bones.remove(correct_bone)\n",
    "            print(\"Correct! That is a foot bone.\")\n",
    "            print(\"You identified\", total, \"out of the 7 foot bones.\\n\")\n",
    "        else:\n",
    "            print(\"Sorry, that is not a foot bone. Try again.\\n\")\n",
    "\n",
    "    print(\"Quiz ended. You identified\", total, \"out of the 7 foot bones.\")\n",
    "\n",
    "foot_bones_quiz()"
   ]
  },
  {
   "cell_type": "markdown",
   "metadata": {},
   "source": [
    "# Module 3 Part 2\n",
    "# The Power of List Iteration (loops)\n",
    "- for in: **`for`** loop using **`in`**\n",
    "- ** for range: `for range(start,stop,step)`** \n",
    "- more list methods: **`.extend()`, `+, .reverse(), .sort()`**      \n",
    "- strings to lists, **`.split()`**, and list to strings, **`.join()`**   \n",
    "\n",
    "\n",
    "----- \n",
    "\n",
    "><font size=\"5\" color=\"#00A0B2\"  face=\"verdana\"> <B>Student will be able to</B></font>  \n",
    "- Iterate through Lists using **`for`** with **`in`**\n",
    "- **Use `for range()` in looping operations**  \n",
    "- Use list methods **`.extend()`, `+, .reverse(), .sort()`**  \n",
    "- convert between lists and strings using  **`.split()`** and **`.join()`**"
   ]
  },
  {
   "cell_type": "markdown",
   "metadata": {},
   "source": [
    "# &nbsp;\n",
    "<font size=\"6\" color=\"#00A0B2\"  face=\"verdana\"> <B>Concepts</B></font>\n",
    "##  `range(stop)`\n",
    "### The range(*stop*) function creates a sequence  \n",
    "using 1 argument with range(*stop*)\n",
    "- deault start: 0\n",
    "- stop: stopping integer, does not process stop number\n",
    "```python\n",
    "for count in range(10):\n",
    "  print(count)\n",
    "```\n",
    "### same as\n",
    "```python\n",
    "for count in [0, 1, 2, 3, 4, 5, 6, 7, 8, 9]:\n",
    "  print(count)\n",
    "```\n"
   ]
  },
  {
   "cell_type": "markdown",
   "metadata": {},
   "source": [
    "\n",
    "<font size=\"4\" color=\"#00A0B2\"  face=\"verdana\"> <B>Examples</B></font>  \n",
    "### range runs from `0` through the integer before `stop`"
   ]
  },
  {
   "cell_type": "code",
   "execution_count": 15,
   "metadata": {},
   "outputs": [
    {
     "name": "stdout",
     "output_type": "stream",
     "text": [
      "0\n",
      "1\n",
      "2\n",
      "3\n",
      "4\n",
      "5\n",
      "6\n",
      "7\n",
      "8\n",
      "9\n"
     ]
    }
   ],
   "source": [
    "# [ ] review and run example\n",
    "for count in range(10):\n",
    "  print(count)"
   ]
  },
  {
   "cell_type": "code",
   "execution_count": 18,
   "metadata": {},
   "outputs": [
    {
     "name": "stdout",
     "output_type": "stream",
     "text": [
      "digits = [0, 1, 2, 3, 4, 5, 6, 7, 8, 9] \n",
      "\n",
      "0\n",
      "1\n",
      "2\n",
      "3\n",
      "4\n",
      "5\n",
      "6\n",
      "7\n",
      "8\n",
      "9\n"
     ]
    }
   ],
   "source": [
    "# review and run example\n",
    "digits = range(10)\n",
    "print(\"digits =\", list(digits), \"\\n\")\n",
    "\n",
    "for count in digits:\n",
    "    print(count)"
   ]
  },
  {
   "cell_type": "code",
   "execution_count": 19,
   "metadata": {},
   "outputs": [
    {
     "name": "stdout",
     "output_type": "stream",
     "text": [
      "sub_total: 0\n",
      "sub_total: 1\n",
      "sub_total: 3\n",
      "sub_total: 6\n",
      "sub_total: 10\n",
      "sub_total: 15\n",
      "sub_total: 21\n",
      "sub_total: 28\n",
      "sub_total: 36\n",
      "sub_total: 45\n",
      "Total = 45\n"
     ]
    }
   ],
   "source": [
    "# [ ] review and run example\n",
    "sub_total = 0\n",
    "for item in range(10):\n",
    "    sub_total += item\n",
    "    print(\"sub_total:\", sub_total)\n",
    "print(\"Total =\", sub_total)"
   ]
  },
  {
   "cell_type": "code",
   "execution_count": 20,
   "metadata": {},
   "outputs": [
    {
     "name": "stdout",
     "output_type": "stream",
     "text": [
      "Tuesday\n",
      "Wednesday\n",
      "February\n"
     ]
    }
   ],
   "source": [
    "# [ ] review and run example\n",
    "# print the first half of a spelling list\n",
    "spell_list = [\"Tuesday\", \"Wednesday\", \"February\", \"November\", \"Annual\", \"Calendar\", \"Solstice\"]\n",
    "\n",
    "# find length of 1st half of list (must be int)\n",
    "half_1 = int(len(spell_list)/2)\n",
    "\n",
    "for word in range(half_1):\n",
    "    print(spell_list[word])"
   ]
  },
  {
   "cell_type": "markdown",
   "metadata": {
    "collapsed": true
   },
   "source": [
    "# &nbsp;\n",
    "<font size=\"6\" color=\"#B24C00\"  face=\"verdana\"> <B>Task 5</B></font>\n",
    "\n",
    "## `range(stop)`"
   ]
  },
  {
   "cell_type": "code",
   "execution_count": 99,
   "metadata": {},
   "outputs": [
    {
     "name": "stdout",
     "output_type": "stream",
     "text": [
      "0\n",
      "1\n",
      "2\n",
      "3\n",
      "4\n",
      "5\n",
      "6\n"
     ]
    }
   ],
   "source": [
    "# [ ] for x = 6, use range(x) to print the numbers 1 through 6\n",
    "x = 6\n",
    "for x in range(7):\n",
    "    print(x)"
   ]
  },
  {
   "cell_type": "code",
   "execution_count": 101,
   "metadata": {},
   "outputs": [
    {
     "name": "stdout",
     "output_type": "stream",
     "text": [
      "1 x 1 = 1\n",
      "2 x 1 = 2\n",
      "3 x 2 = 6\n",
      "4 x 6 = 24\n",
      "5 x 24 = 120\n",
      "6 x 120 = 720\n",
      "7 x 720 = 5040\n",
      "5040\n"
     ]
    }
   ],
   "source": [
    "# [ ] using range(x) multiply the numbers 1 through 7\n",
    "# 1x2x3x4x5x6x7 = 5040\n",
    "result = 1\n",
    "for num in range(1,8):\n",
    "    print(num,\"x\",result, end = \" \")\n",
    "    result = num * result\n",
    "    print(\"=\", result)\n",
    "    \n",
    "\n",
    "print(result)"
   ]
  },
  {
   "cell_type": "markdown",
   "metadata": {},
   "source": [
    "Use **`range(stop)`** to print the second half of spell_list below"
   ]
  },
  {
   "cell_type": "code",
   "execution_count": 94,
   "metadata": {},
   "outputs": [
    {
     "name": "stdout",
     "output_type": "stream",
     "text": [
      "half = 3\n",
      "November\n",
      "Annual\n",
      "Calendar\n",
      "Solstice\n"
     ]
    }
   ],
   "source": [
    "# [ ] print the second half of a spelling list using a range(stop) loop to iterate the list\n",
    "spell_list = [\"Wednesday\", \"Tuesday\", \"February\", \"November\", \"Annual\", \"Calendar\", \"Solstice\"]\n",
    "\n",
    "half_2 = int(len(spell_list)/2)\n",
    "print(\"half =\",half_2)\n",
    "for word in range(half_2,7):\n",
    "    print(spell_list[word])"
   ]
  },
  {
   "cell_type": "markdown",
   "metadata": {},
   "source": [
    "# &nbsp;\n",
    "<font size=\"6\" color=\"#00A0B2\"  face=\"verdana\"> <B>Concepts</B></font>\n",
    "##  `range(start,stop)`\n",
    "### The range(*start,stop*) function creates a sequence\n",
    "using 2 arguments with range(*start,stop*)\n",
    "- start: starting integer value of a range loop\n",
    "- stop: stopping integer (second argument), does not process stop number \n",
    "```python\n",
    "for count in range(5,10):\n",
    "  print(count)\n",
    "```\n"
   ]
  },
  {
   "cell_type": "markdown",
   "metadata": {},
   "source": [
    "\n",
    "<font size=\"4\" color=\"#00A0B2\"  face=\"verdana\"> <B>Examples</B></font>  \n",
    "### range runs from `start` integer through the integer before `stop`"
   ]
  },
  {
   "cell_type": "code",
   "execution_count": 98,
   "metadata": {},
   "outputs": [
    {
     "name": "stdout",
     "output_type": "stream",
     "text": [
      "5\n",
      "6\n",
      "7\n",
      "8\n",
      "9\n"
     ]
    }
   ],
   "source": [
    "# [ ] review and run example\n",
    "for count in range(5,10):\n",
    "    print(count)"
   ]
  },
  {
   "cell_type": "code",
   "execution_count": 102,
   "metadata": {},
   "outputs": [
    {
     "name": "stdout",
     "output_type": "stream",
     "text": [
      "sub_total: 0 + 5 = 5\n",
      "sub_total: 5 + 6 = 11\n",
      "sub_total: 11 + 7 = 18\n",
      "sub_total: 18 + 8 = 26\n",
      "sub_total: 26 + 9 = 35\n",
      "sub_total: 35 + 10 = 45\n",
      "Total = 45\n"
     ]
    }
   ],
   "source": [
    "# [ ] review and run example\n",
    "sub_total = 0\n",
    "temp = 0\n",
    "for item in range(5, 11):\n",
    "    temp = sub_total\n",
    "    sub_total += item\n",
    "    print(\"sub_total:\", temp, \"+\", item, \"=\",sub_total)\n",
    "print(\"Total =\", sub_total)"
   ]
  },
  {
   "cell_type": "code",
   "execution_count": 103,
   "metadata": {},
   "outputs": [
    {
     "name": "stdout",
     "output_type": "stream",
     "text": [
      "November\n",
      "Annual\n",
      "Calendar\n",
      "Solstice\n"
     ]
    }
   ],
   "source": [
    "# [ ] review and run example\n",
    "\n",
    "spell_list = [\"Tuesday\", \"Wednesday\", \"February\", \"November\", \"Annual\", \"Calendar\", \"Solstice\"]\n",
    "\n",
    "# find length list \n",
    "spell_len = len(spell_list)\n",
    "# find lenght of 1st half (aka - start of 2nd half)\n",
    "half_1 = int(spell_len/2)\n",
    "\n",
    "# print 2nd half list\n",
    "for word in range(half_1,spell_len):\n",
    "    print(spell_list[word])"
   ]
  },
  {
   "cell_type": "markdown",
   "metadata": {
    "collapsed": true
   },
   "source": [
    "# &nbsp;\n",
    "<font size=\"6\" color=\"#B24C00\"  face=\"verdana\"> <B>Task 6</B></font>\n",
    "\n",
    "##  `range(start,stop)`"
   ]
  },
  {
   "cell_type": "code",
   "execution_count": 107,
   "metadata": {},
   "outputs": [
    {
     "name": "stdout",
     "output_type": "stream",
     "text": [
      "[5, 6, 7, 8, 9, 10, 11, 12, 13, 14, 15]\n"
     ]
    }
   ],
   "source": [
    "# [ ] using range(start,stop), .append() the numbers 5 to 15 to the list: five_fifteen\n",
    "# [ ] print list five_fifteen\n",
    "five_fifteen = []\n",
    "\n",
    "for num in range(5,16):\n",
    "    five_fifteen.append(num)\n",
    "\n",
    "print(five_fifteen)"
   ]
  },
  {
   "cell_type": "code",
   "execution_count": 110,
   "metadata": {},
   "outputs": [
    {
     "name": "stdout",
     "output_type": "stream",
     "text": [
      "February\n",
      "November\n",
      "Annual\n"
     ]
    }
   ],
   "source": [
    "# [ ] using range(start,stop) - print the 3rd, 4th and 5th words in spell_list\n",
    "# output should include \"February\", \"November\", \"Annual\"\n",
    "spell_list = [\"Tuesday\", \"Wednesday\", \"February\", \"November\", \"Annual\", \"Calendar\", \"Solstice\"]\n",
    "\n",
    "for spell in range(2,5):\n",
    "    print(spell_list[spell])\n",
    "    "
   ]
  },
  {
   "cell_type": "code",
   "execution_count": 112,
   "metadata": {},
   "outputs": [
    {
     "name": "stdout",
     "output_type": "stream",
     "text": [
      "Index of 'Annual': 4\n",
      "Annual\n",
      "Calendar\n",
      "Solstice\n"
     ]
    }
   ],
   "source": [
    "# [ ] using code find the index of \"Annual\" in spell_list\n",
    "# [ ] using range, print the spell_list including \"Annual\" to end of list\n",
    "spell_list = [\"Tuesday\", \"Wednesday\", \"February\", \"November\", \"Annual\", \"Calendar\", \"Solstice\"]\n",
    "\n",
    "annual_index = spell_list.index(\"Annual\")\n",
    "print(\"Index of 'Annual':\", annual_index)\n",
    "\n",
    "for spell in spell_list[annual_index:]:\n",
    "    print(spell)\n"
   ]
  },
  {
   "cell_type": "markdown",
   "metadata": {},
   "source": [
    "# &nbsp;\n",
    "<font size=\"6\" color=\"#00A0B2\"  face=\"verdana\"> <B>Concepts</B></font>\n",
    "##  `range(start,stop,step)`\n",
    "### The range(*start,stop,step*) function creates a sequence\n",
    "using 3 arguments with range(*start,stop,step*)\n",
    "- start: starting integer value of a range loop\n",
    "- stop: stopping integer (second argument), does not process stop number \n",
    "- step: skip value for each loop\n",
    "```python\n",
    "for count in range(10,101,10):\n",
    "  print(count)\n",
    "```\n"
   ]
  },
  {
   "cell_type": "markdown",
   "metadata": {},
   "source": [
    "\n",
    "<font size=\"4\" color=\"#00A0B2\"  face=\"verdana\"> <B>Examples</B></font>  \n",
    "### range runs from `start` integer, skipping by `step`, through the largest `step` integer before reaching `stop`"
   ]
  },
  {
   "cell_type": "code",
   "execution_count": 113,
   "metadata": {},
   "outputs": [
    {
     "name": "stdout",
     "output_type": "stream",
     "text": [
      "25\n",
      "50\n",
      "75\n",
      "100\n"
     ]
    }
   ],
   "source": [
    "# [ ] review and run example\n",
    "for count in range(25,101,25):\n",
    "  print(count)"
   ]
  },
  {
   "cell_type": "code",
   "execution_count": 114,
   "metadata": {},
   "outputs": [
    {
     "name": "stdout",
     "output_type": "stream",
     "text": [
      "sub_total: 0 + 25 = 25\n",
      "sub_total: 25 + 30 = 55\n",
      "sub_total: 55 + 35 = 90\n",
      "sub_total: 90 + 40 = 130\n",
      "sub_total: 130 + 45 = 175\n",
      "Total = 175\n"
     ]
    }
   ],
   "source": [
    "# [ ] review and run example\n",
    "sub_total = 0\n",
    "temp = 0\n",
    "for item in range(25,46,5):\n",
    "    temp = sub_total\n",
    "    sub_total += item\n",
    "    print(\"sub_total:\", temp, \"+\", item, \"=\",sub_total)\n",
    "print(\"Total =\", sub_total)"
   ]
  },
  {
   "cell_type": "code",
   "execution_count": 34,
   "metadata": {},
   "outputs": [
    {
     "name": "stdout",
     "output_type": "stream",
     "text": [
      "Tuesday\n",
      "February\n",
      "Annual\n",
      "Solstice\n"
     ]
    }
   ],
   "source": [
    "# [ ] review and run example printing the 1st and then every other word in spell_list\n",
    "spell_list = [\"Tuesday\", \"Wednesday\", \"February\", \"November\", \"Annual\", \"Calendar\", \"Solstice\"]\n",
    "\n",
    "for index in range(0,len(spell_list),2):\n",
    "    print(spell_list[index])"
   ]
  },
  {
   "cell_type": "code",
   "execution_count": 35,
   "metadata": {},
   "outputs": [
    {
     "name": "stdout",
     "output_type": "stream",
     "text": [
      "[1, 3, 5, 7, 9, 11, 13, 15, 17, 19]\n"
     ]
    }
   ],
   "source": [
    "# [ ] review and run example casting range to list\n",
    "odd_list = list(range(1,20,2))\n",
    "print(odd_list)"
   ]
  },
  {
   "cell_type": "markdown",
   "metadata": {
    "collapsed": true
   },
   "source": [
    "# &nbsp;\n",
    "<font size=\"6\" color=\"#B24C00\"  face=\"verdana\"> <B>Task 7</B></font>  \n",
    "## `range(start,stop,step)`"
   ]
  },
  {
   "cell_type": "code",
   "execution_count": 115,
   "metadata": {},
   "outputs": [
    {
     "name": "stdout",
     "output_type": "stream",
     "text": [
      "10\n",
      "12\n",
      "14\n",
      "16\n",
      "18\n",
      "20\n"
     ]
    }
   ],
   "source": [
    "# [ ] print numbers 10 to 20 by 2's using range\n",
    "for count in range(10,21,2):\n",
    "    print(count)\n",
    "\n"
   ]
  },
  {
   "cell_type": "code",
   "execution_count": null,
   "metadata": {},
   "outputs": [],
   "source": []
  },
  {
   "cell_type": "code",
   "execution_count": 118,
   "metadata": {},
   "outputs": [
    {
     "name": "stdout",
     "output_type": "stream",
     "text": [
      "20\n",
      "19\n",
      "18\n",
      "17\n",
      "16\n",
      "15\n",
      "14\n",
      "13\n",
      "12\n",
      "11\n",
      "10\n"
     ]
    }
   ],
   "source": [
    "# [ ] print numbers 20 to 10 using range (need to countdown)\n",
    "# Hint: start at 20\n",
    "for count in range(20,9,-1):\n",
    "    print(count)\n"
   ]
  },
  {
   "cell_type": "code",
   "execution_count": 121,
   "metadata": {},
   "outputs": [
    {
     "name": "stdout",
     "output_type": "stream",
     "text": [
      "Tuesday\n",
      "November\n",
      "Solstice\n"
     ]
    }
   ],
   "source": [
    "# [ ] print first and every third word in spell_list\n",
    "spell_list = [\"Tuesday\", \"Wednesday\", \"February\", \"November\", \"Annual\", \"Calendar\", \"Solstice\"]\n",
    "for day in range(0,len(spell_list),3):\n",
    "    print(spell_list[day])\n"
   ]
  },
  {
   "cell_type": "markdown",
   "metadata": {
    "collapsed": true
   },
   "source": [
    "# &nbsp;\n",
    "<font size=\"6\" color=\"#B24C00\"  face=\"verdana\"> <B>Task 8</B></font>  \n",
    "\n",
    "### Program: List of letters \n",
    "- Input a word string (**word**)\n",
    "- find the string length of word \n",
    "- **use range()** to iterate through each letter in word (can use to range loops)\n",
    "- Save odd and even letters from the word as lists\n",
    "  - **odd_letters**: starting at index 0,2,...\n",
    "  - **even_letters**: starting at index 1,3,...\n",
    "- print odd and even lists"
   ]
  },
  {
   "cell_type": "code",
   "execution_count": 128,
   "metadata": {},
   "outputs": [
    {
     "name": "stdout",
     "output_type": "stream",
     "text": [
      "enter a word: complexity\n",
      "Odd letters: ['c', 'm', 'l', 'x', 't']\n",
      "Even letters: ['o', 'p', 'e', 'i', 'y']\n"
     ]
    }
   ],
   "source": [
    "# [ ] complete List of letters program- test with the word \"complexity\"\n",
    "\n",
    "word = input(\"enter a word: \")\n",
    "word_length = len(word)\n",
    "\n",
    "odd_letters = []\n",
    "even_letters = [] \n",
    "\n",
    "for letter in range(0,word_length,2):\n",
    "    odd_letters.append(word[letter])\n",
    "\n",
    "for letter in range(1,word_length,2):\n",
    "    even_letters.append(word[letter])  \n",
    "\n",
    "print(\"Odd letters:\", odd_letters)\n",
    "print(\"Even letters:\", even_letters) "
   ]
  },
  {
   "cell_type": "markdown",
   "metadata": {},
   "source": [
    "# &nbsp;\n",
    "<font size=\"6\" color=\"#B24C00\"  face=\"verdana\"> <B>Task 9: fix the error</B></font>\n"
   ]
  },
  {
   "cell_type": "code",
   "execution_count": 130,
   "metadata": {},
   "outputs": [
    {
     "name": "stdout",
     "output_type": "stream",
     "text": [
      "1\n",
      "3\n",
      "5\n",
      "7\n",
      "9\n"
     ]
    }
   ],
   "source": [
    "# [ ] fix the error printing odd numbers 1 - 9\n",
    "for num in range(1,10,2):\n",
    "    print(num)\n",
    "\n",
    "\n"
   ]
  },
  {
   "cell_type": "markdown",
   "metadata": {},
   "source": [
    "# Module 3 Part 3\n",
    "# The Power of List Iteration\n",
    "- for in: **`for`** loop using **`in`**\n",
    "- for range: **`for range(start,stop,step)`** \n",
    "- **more list methods: `.extend()`, `+, .reverse(), .sort()`**   \n",
    "- strings to lists, **`.split()`**, and list to strings, **`.join()`**     \n",
    "\n",
    "\n",
    "----- \n",
    "\n",
    "><font size=\"5\" color=\"#00A0B2\"  face=\"verdana\"> <B>Student will be able to</B></font>  \n",
    "- Iterate through Lists using **`for`** with **`in`**\n",
    "- Use **`for range()`** in looping operations \n",
    "- **Use list methods `.extend()`, `+, .reverse(), .sort()`**  \n",
    "- convert between lists and strings using  **`.split()`** and **`.join()`**"
   ]
  },
  {
   "cell_type": "markdown",
   "metadata": {},
   "source": [
    "# &nbsp;\n",
    "<font size=\"6\" color=\"#00A0B2\"  face=\"verdana\"> <B>Concepts</B></font>\n",
    "## Combine Lists\n",
    "## `+`  list addition\n",
    "##  `.extend()` list method   \n",
    "\n",
    "### combine lists with `+` and `.extend()`\n",
    "```python\n",
    "visited_cities = [\"New York\", \"Shanghai\", \"Munich\", \"Toyko\", \"Dubai\", \"Mexico City\", \"São Paulo\", \"Hyderabad\"]\n",
    "wish_cities = [\"Reykjavík\", \"Moscow\", \"Beijing\", \"Lamu\"]\n",
    "# combine in a new list\n",
    "all_cities = visited_cities + wish_cities\n",
    "\n",
    "# add a list to an existing list\n",
    "visitied_cities.extend(wish_cities)\n",
    "```"
   ]
  },
  {
   "cell_type": "markdown",
   "metadata": {},
   "source": [
    "\n",
    "<font size=\"4\" color=\"#00A0B2\"  face=\"verdana\"> <B>Examples</B></font>"
   ]
  },
  {
   "cell_type": "code",
   "execution_count": 131,
   "metadata": {},
   "outputs": [
    {
     "name": "stdout",
     "output_type": "stream",
     "text": [
      "ALL CITIES ['New York', 'Shanghai', 'Munich', 'Toyko', 'Dubai', 'Mexico City', 'São Paulo', 'Hyderabad', 'Reykjavík', 'Moscow', 'Beijing', 'Lamu']\n"
     ]
    }
   ],
   "source": [
    "# [ ] review and run example\n",
    "visited_cities = [\"New York\", \"Shanghai\", \"Munich\", \"Toyko\", \"Dubai\", \"Mexico City\", \"São Paulo\", \"Hyderabad\"]\n",
    "wish_cities = [\"Reykjavík\", \"Moscow\", \"Beijing\", \"Lamu\"]\n",
    "\n",
    "# .extend() \n",
    "# extending visited_cities list (IN PLACE) by concatenating wish_cities\n",
    "visited_cities.extend(wish_cities)\n",
    "print(\"ALL CITIES\",visited_cities)"
   ]
  },
  {
   "cell_type": "code",
   "execution_count": 132,
   "metadata": {},
   "outputs": [
    {
     "name": "stdout",
     "output_type": "stream",
     "text": [
      "ALL CITIES\n",
      "New York\n",
      "Shanghai\n",
      "Munich\n",
      "Toyko\n",
      "Dubai\n",
      "Mexico City\n",
      "São Paulo\n",
      "Hyderabad\n",
      "Reykjavík\n",
      "Moscow\n",
      "Beijing\n",
      "Lamu\n"
     ]
    }
   ],
   "source": [
    "# [ ] review and run example\n",
    "visited_cities = [\"New York\", \"Shanghai\", \"Munich\", \"Toyko\", \"Dubai\", \"Mexico City\", \"São Paulo\", \"Hyderabad\"]\n",
    "wish_cities = [\"Reykjavík\", \"Moscow\", \"Beijing\", \"Lamu\"]\n",
    "\n",
    "# (+) Addition operator for lists creates a (NEW) combined List\n",
    "all_cities = visited_cities + wish_cities\n",
    "\n",
    "print(\"ALL CITIES\")\n",
    "for city in all_cities:\n",
    "    print(city)"
   ]
  },
  {
   "cell_type": "code",
   "execution_count": 133,
   "metadata": {},
   "outputs": [
    {
     "name": "stdout",
     "output_type": "stream",
     "text": [
      "Team A: [0, 2, 2, 2, 4, 4, 4, 5, 6, 6, 6] \n",
      "Team B: [0, 0, 0, 1, 1, 2, 3, 3, 3, 6, 8]\n",
      "Team Totals [0, 2, 2, 2, 4, 4, 4, 5, 6, 6, 6, 0, 0, 0, 1, 1, 2, 3, 3, 3, 6, 8]\n"
     ]
    }
   ],
   "source": [
    "# [ ] review and run example\n",
    "team_a = [0,2,2,2,4,4,4,5,6,6,6]\n",
    "team_b = [0,0,0,1,1,2,3,3,3,6,8]\n",
    "print(\"Team A:\", team_a, \"\\nTeam B:\",team_b)\n",
    "\n",
    "# (+) Addition operator \n",
    "team_totals = team_a + team_b\n",
    "print(\"Team Totals\", team_totals)"
   ]
  },
  {
   "cell_type": "code",
   "execution_count": 135,
   "metadata": {},
   "outputs": [
    {
     "name": "stdout",
     "output_type": "stream",
     "text": [
      "Team_a extended [0, 2, 2, 2, 4, 4, 4, 5, 6, 6, 6, 0, 0, 0, 1, 1, 2, 3, 3, 3, 6, 8, 0, 0, 0, 1, 1, 2, 3, 3, 3, 6, 8]\n"
     ]
    }
   ],
   "source": [
    "# [ ] review and run example after running cell above\n",
    "# .extend() \n",
    "team_a.extend(team_b)\n",
    "print(\"Team_a extended\", team_a)\n",
    "\n",
    "# what happens if you keep running this cell?"
   ]
  },
  {
   "cell_type": "markdown",
   "metadata": {
    "collapsed": true
   },
   "source": [
    "# &nbsp;\n",
    "<font size=\"6\" color=\"#B24C00\"  face=\"verdana\"> <B>Task 10</B></font>\n",
    "\n",
    "### combine lists"
   ]
  },
  {
   "cell_type": "code",
   "execution_count": 136,
   "metadata": {},
   "outputs": [
    {
     "name": "stdout",
     "output_type": "stream",
     "text": [
      "['chicken', 'blue jay', 'crow', 'pigeon', 'ya mutha', 'dogcat']\n"
     ]
    }
   ],
   "source": [
    "# [ ] extend the list common_birds with list birds_seen which you must create\n",
    "common_birds = [\"chicken\", \"blue jay\", \"crow\", \"pigeon\"]\n",
    "bird_seen = [\"ya mutha\", \"dogcat\"]\n",
    "\n",
    "common_birds.extend(bird_seen)\n",
    "print(common_birds)"
   ]
  },
  {
   "cell_type": "code",
   "execution_count": 137,
   "metadata": {},
   "outputs": [
    {
     "name": "stdout",
     "output_type": "stream",
     "text": [
      "[1, 2, 3, 4, 5, 6, 7, 8, 9, 10, 20, 30, 40, 50, 60]\n"
     ]
    }
   ],
   "source": [
    "# [ ] Create 2 lists zero_nine and ten_onehundred that contain 1-9, and 10 - 100 by 10's.\n",
    "# [ ] use list addition to concatenate the lists into all_num and print\n",
    "zero_nine = [1,2,3,4,5,6,7,8,9]\n",
    "ten_onehundred = [10,20,30,40,50,60,]\n",
    "\n",
    "all_num = zero_nine + ten_onehundred\n",
    "\n",
    "print(all_num)"
   ]
  },
  {
   "cell_type": "markdown",
   "metadata": {},
   "source": [
    "# &nbsp;\n",
    "<font size=\"6\" color=\"#00A0B2\"  face=\"verdana\"> <B>Concepts</B></font>\n",
    "## .reverse() : reverse a list in place\n",
    "```python\n",
    "cities_1 = [\"Dubai\", \"Mexico City\", \"São Paulo\", \"Hyderabad\"]\n",
    "\n",
    "print(\"regular\", cities_1)\n",
    "cities_1.reverse()\n",
    "print(\"reversed\", cities_1)\n",
    "```\n"
   ]
  },
  {
   "cell_type": "markdown",
   "metadata": {},
   "source": [
    "\n",
    "<font size=\"4\" color=\"#00A0B2\"  face=\"verdana\"> <B>Examples</B></font>"
   ]
  },
  {
   "cell_type": "code",
   "execution_count": 138,
   "metadata": {},
   "outputs": [
    {
     "name": "stdout",
     "output_type": "stream",
     "text": [
      "regular ['Dubai', 'Mexico City', 'São Paulo', 'Hyderabad']\n",
      "reversed ['Hyderabad', 'São Paulo', 'Mexico City', 'Dubai']\n"
     ]
    }
   ],
   "source": [
    "# [ ] review and run example\n",
    "cities_1 = [\"Dubai\", \"Mexico City\", \"São Paulo\", \"Hyderabad\"]\n",
    "\n",
    "print(\"regular\", cities_1)\n",
    "cities_1.reverse()\n",
    "print(\"reversed\", cities_1)"
   ]
  },
  {
   "cell_type": "code",
   "execution_count": 139,
   "metadata": {},
   "outputs": [
    {
     "name": "stdout",
     "output_type": "stream",
     "text": [
      "regular list [0, 1, 2, 3, 4, 5, 6, 7, 8, 9, 10, 20, 30, 40, 50, 60, 70, 80, 90, 100] \n",
      "\n",
      "reverse list [100, 90, 80, 70, 60, 50, 40, 30, 20, 10, 9, 8, 7, 6, 5, 4, 3, 2, 1, 0] \n",
      "\n",
      "Three Multiple\n",
      "90\n",
      "60\n",
      "30\n",
      "9\n",
      "6\n",
      "3\n",
      "0\n"
     ]
    }
   ],
   "source": [
    "# [ ] review and run example\n",
    "all_num = [0, 1, 2, 3, 4, 5, 6, 7, 8, 9, 10, 20, 30, 40, 50, 60, 70, 80, 90, 100]\n",
    "print(\"regular list\",all_num, \"\\n\")\n",
    "all_num.reverse()\n",
    "print(\"reverse list\",all_num, \"\\n\")\n",
    "num_len = len(all_num)\n",
    "\n",
    "print(\"Three Multiple\")\n",
    "for num in all_num:\n",
    "    if num/3 == int(num/3):\n",
    "        print(num)\n",
    "    else:\n",
    "        pass\n",
    "    "
   ]
  },
  {
   "cell_type": "code",
   "execution_count": 46,
   "metadata": {},
   "outputs": [
    {
     "name": "stdout",
     "output_type": "stream",
     "text": [
      "before list [0, 1, 2, 3, 4, 5, 6, 7, 8, 9, 10, 11, 12, 13, 14, 15, 16, 17, 18, 19, 20]\n",
      "after list [20, 19, 18, 17, 16, 15, 14, 13, 12, 11, 10, 9, 8, 7, 6, 5, 4, 3, 2, 1, 0]\n"
     ]
    }
   ],
   "source": [
    "# [ ] review and run example\n",
    "# create a list of  numbers by casting a range \n",
    "count_list = list(range(21))\n",
    "print(\"before list\", count_list)\n",
    "\n",
    "# and reverse\n",
    "count_list.reverse()\n",
    "print(\"after list\", count_list)"
   ]
  },
  {
   "cell_type": "markdown",
   "metadata": {
    "collapsed": true
   },
   "source": [
    "# &nbsp;\n",
    "<font size=\"6\" color=\"#B24C00\"  face=\"verdana\"> <B>Task 11</B></font>\n",
    "\n",
    "## .reverse()"
   ]
  },
  {
   "cell_type": "code",
   "execution_count": 144,
   "metadata": {},
   "outputs": [
    {
     "name": "stdout",
     "output_type": "stream",
     "text": [
      "Multiples of 5: [5, 10, 15, 20, 25, 30, 35, 40, 45, 50, 55, 60, 65, 70, 75, 80, 85, 90, 95, 100]\n",
      "Reversed Multiples of 5: [100, 95, 90, 85, 80, 75, 70, 65, 60, 55, 50, 45, 40, 35, 30, 25, 20, 15, 10, 5]\n"
     ]
    }
   ],
   "source": [
    "# [ ] create and  print a list of multiples of 5 from 5 to 100\n",
    "# { ] reverse the list and print\n",
    "multiples_of_5 = [num for num in range(5, 101, 5)]\n",
    "print(\"Multiples of 5:\", multiples_of_5)\n",
    "\n",
    "# Reverse the list and print\n",
    "multiples_of_5.reverse()\n",
    "print(\"Reversed Multiples of 5:\", multiples_of_5)\n"
   ]
  },
  {
   "cell_type": "code",
   "execution_count": 151,
   "metadata": {},
   "outputs": [
    {
     "name": "stdout",
     "output_type": "stream",
     "text": [
      "[44, 40, 36, 32, 28, 24, 20, 16, 12, 8, 4, 4, 8, 12, 16, 20, 24, 28, 32, 36, 40]\n"
     ]
    }
   ],
   "source": [
    "# [ ] Create two lists: fours & more_fours containing multiples of four from 4 to 44\n",
    "# [ ] combine and print so that the output is mirrored [44, 40,...8, 4, 4, 8, ...40, 44]\n",
    "four = [num for num in range(44, 1, -4)] \n",
    "more_fours = [num for num in range(4, 44, 4)]\n",
    "\n",
    "mirrored_fours = four + more_fours \n",
    "\n",
    "print(mirrored_fours)"
   ]
  },
  {
   "cell_type": "markdown",
   "metadata": {},
   "source": [
    "# &nbsp;\n",
    "<font size=\"6\" color=\"#00A0B2\"  face=\"verdana\"> <B>Concepts</B></font>  \n",
    "\n",
    "## .sort() and sorted()\n",
    "\n",
    "### .sort() in place  \n",
    "**.sort()** - orders a list in place \n",
    "```python\n",
    "quiz_scores = [20, 19, 20, 15, 20, 20, 20, 18, 18, 18, 19]\n",
    "quiz_scores.sort()\n",
    "```  \n",
    "\n",
    "### sorted() copy\n",
    "**sorted()** - creates an ordered list copy \n",
    "```python\n",
    "game_points = [3, 14, 0, 8, 21, 1, 3, 8]\n",
    "sorted_points = sorted(game_points)\n",
    "```"
   ]
  },
  {
   "cell_type": "markdown",
   "metadata": {},
   "source": [
    "# &nbsp;\n",
    "<font size=\"6\" color=\"#00A0B2\"  face=\"verdana\"> <B>Examples</B></font>  \n",
    "### .sort() and sorted()"
   ]
  },
  {
   "cell_type": "code",
   "execution_count": 152,
   "metadata": {},
   "outputs": [
    {
     "name": "stdout",
     "output_type": "stream",
     "text": [
      "quiz_scores: [15, 18, 18, 18, 19, 19, 20, 20, 20, 20, 20]\n"
     ]
    }
   ],
   "source": [
    "# [ ] review and run example\n",
    "quiz_scores = [20, 19, 20, 15, 20, 20, 20, 18, 18, 18, 19]\n",
    "\n",
    "# use .sort()\n",
    "quiz_scores.sort()\n",
    "\n",
    "print(\"quiz_scores:\", quiz_scores)"
   ]
  },
  {
   "cell_type": "code",
   "execution_count": 153,
   "metadata": {},
   "outputs": [
    {
     "name": "stdout",
     "output_type": "stream",
     "text": [
      "game_points: [3, 14, 0, 8, 21, 1, 3, 8]\n",
      "sorted_points: [0, 1, 3, 3, 8, 8, 14, 21]\n"
     ]
    }
   ],
   "source": [
    "# [ ] review and run example\n",
    "game_points = [3, 14, 0, 8, 21, 1, 3, 8]\n",
    "\n",
    "# use sorted()\n",
    "sorted_points = sorted(game_points)\n",
    "\n",
    "print(\"game_points:\", game_points)\n",
    "print(\"sorted_points:\", sorted_points)"
   ]
  },
  {
   "cell_type": "code",
   "execution_count": 154,
   "metadata": {},
   "outputs": [
    {
     "name": "stdout",
     "output_type": "stream",
     "text": [
      "Unsorted ['Dubai', 'Mexico City', 'São Paulo', 'Hyderabad']\n",
      "Sorted ['Dubai', 'Hyderabad', 'Mexico City', 'São Paulo']\n"
     ]
    }
   ],
   "source": [
    "# [ ] review and run example\n",
    "cities_1 = [\"Dubai\", \"Mexico City\", \"São Paulo\", \"Hyderabad\"]\n",
    "\n",
    "print(\"Unsorted\", cities_1)\n",
    "cities_1.sort()\n",
    "print(\"Sorted\", cities_1)"
   ]
  },
  {
   "cell_type": "markdown",
   "metadata": {
    "collapsed": true
   },
   "source": [
    "# &nbsp;\n",
    "<font size=\"6\" color=\"#B24C00\"  face=\"verdana\"> <B>Task 12</B></font>  \n",
    "## .sort() & sorted()"
   ]
  },
  {
   "cell_type": "code",
   "execution_count": 158,
   "metadata": {},
   "outputs": [
    {
     "name": "stdout",
     "output_type": "stream",
     "text": [
      "Dubai\n",
      "Hyderabad\n",
      "Mexico City\n",
      "Munich\n",
      "New York\n"
     ]
    }
   ],
   "source": [
    "# [ ] print cites from visited_cities list in alphbetical order using .sort()\n",
    "# [ ] only print cities that names start \"Q\" or earlier\n",
    "visited_cities = [\"New York\", \"Shanghai\", \"Munich\", \"Toyko\", \"Dubai\", \"Mexico City\", \"São Paulo\", \"Hyderabad\"]\n",
    "visited_cities.sort()\n",
    "\n",
    "for city in visited_cities:\n",
    "    if city[0].lower() <= 'q':\n",
    "        print(city)\n"
   ]
  },
  {
   "cell_type": "code",
   "execution_count": 161,
   "metadata": {},
   "outputs": [
    {
     "name": "stdout",
     "output_type": "stream",
     "text": [
      "Hyderabad\n",
      "Mexico City\n",
      "Munich\n",
      "New York\n",
      "Shanghai\n",
      "São Paulo\n"
     ]
    }
   ],
   "source": [
    "# [ ] make a sorted copy (sorted_cities) of visited_cities list\n",
    "# [ ] remove city names 5 characters or less from sorted_cities \n",
    "# [ ] print visitied cites and sorted cities\n",
    "visited_cities = [\"New York\", \"Shanghai\", \"Munich\", \"Toyko\", \"Dubai\", \"Mexico City\", \"São Paulo\", \"Hyderabad\"]\n",
    "sorted_cities = sorted(visited_cities)\n",
    "\n",
    "for city in sorted_cities:\n",
    "    if len(city) >= 6:\n",
    "        print(city)\n"
   ]
  },
  {
   "cell_type": "markdown",
   "metadata": {
    "collapsed": true
   },
   "source": [
    "# &nbsp;\n",
    "<font size=\"6\" color=\"#B24C00\"  face=\"verdana\"> <B>Task 13</B></font>  \n",
    "## Program: Merge & Sort Animals\n",
    "Create a program that \n",
    "- takes user to build a list: add_animals \n",
    "- merges add_anmials with exisiting list: anmimals\n",
    "- provides a sorted list to view in alpa or reverse alpha order"
   ]
  },
  {
   "cell_type": "markdown",
   "metadata": {},
   "source": [
    "\n",
    "<font size=\"4\" color=\"#B24C00\"  face=\"verdana\"> <B>step 1 </B></font> get user input to build add_animals list\n"
   ]
  },
  {
   "cell_type": "code",
   "execution_count": 163,
   "metadata": {},
   "outputs": [
    {
     "name": "stdout",
     "output_type": "stream",
     "text": [
      "Give me an animal to add or blank to stop: jay\n",
      "Give me an animal to add or blank to stop: cat\n",
      "Give me an animal to add or blank to stop: dog\n",
      "Give me an animal to add or blank to stop: lio\n",
      "Give me an animal to add or blank to stop: \n"
     ]
    }
   ],
   "source": [
    "# [ ] build a list (add_animals) using a while loop, stop adding when an empty string is entered\n",
    "add_animals = []\n",
    "\n",
    "while True:\n",
    "    next_animal = input(\"Give me an animal to add or blank to stop: \")\n",
    "    if next_animal == \"\":\n",
    "        break\n",
    "    else:\n",
    "        add_animals.append(next_animal)"
   ]
  },
  {
   "cell_type": "markdown",
   "metadata": {},
   "source": [
    "\n",
    "<font size=\"4\" color=\"#B24C00\"  face=\"verdana\"> <B>step 2 </B></font> Merge the lists: add_animals into animals\n"
   ]
  },
  {
   "cell_type": "code",
   "execution_count": 166,
   "metadata": {},
   "outputs": [],
   "source": [
    "# [ ] extend the lists into animals, then sort \n",
    "animals = [\"Chimpanzee\", \"Panther\", \"Wolf\", \"Armadillo\"]\n",
    "animals.extend(add_animals)\n",
    "animals.sort()"
   ]
  },
  {
   "cell_type": "markdown",
   "metadata": {},
   "source": [
    "\n",
    "<font size=\"4\" color=\"#B24C00\"  face=\"verdana\"> <B>step 3 </B></font> Allow animals list to be viewed alpha or reverse alpha order\n"
   ]
  },
  {
   "cell_type": "code",
   "execution_count": 171,
   "metadata": {},
   "outputs": [
    {
     "name": "stdout",
     "output_type": "stream",
     "text": [
      "Would you like to see the liwt in alphabetical order or reverse order, insert \"a\" or \"r\": r\n",
      "['lio', 'jay', 'dog', 'cat', 'Wolf', 'Panther', 'Chimpanzee', 'Armadillo']\n"
     ]
    }
   ],
   "source": [
    "# [ ] get input if list should be viewed alpha or reverse alpha and display list\n",
    "user_input = input(\"Would you like to see the liwt in alphabetical order or reverse order, insert \\\"a\\\" or \\\"r\\\": \")\n",
    "\n",
    "if user_input.lower().startswith(\"a\"):\n",
    "    print(animals)\n",
    "elif user_input.lower().startswith(\"r\"):\n",
    "    animals.reverse()\n",
    "    print(animals)\n",
    "                   "
   ]
  },
  {
   "cell_type": "code",
   "execution_count": null,
   "metadata": {
    "collapsed": true
   },
   "outputs": [],
   "source": []
  },
  {
   "cell_type": "markdown",
   "metadata": {},
   "source": [
    "# Module 3 Part 4\n",
    "# The Power of List Iteration\n",
    "- for in: **`for`** loop using **`in`**\n",
    "- for range: **`for range(start,stop,step)`** \n",
    "- more list methods: **`.extend()`, `+, .reverse(), .sort()`**     \n",
    "- **strings to lists,`.split()`, and list to strings, `.join()`** \n",
    "- **list cast & `print(\"hello\", end='')`**\n",
    "\n",
    "\n",
    "----- \n",
    "\n",
    "><font size=\"5\" color=\"#00A0B2\"  face=\"verdana\"> <B>Student will be able to</B></font>  \n",
    "- Iterate through Lists using **`for`** with **`in`**\n",
    "- Use **`for range()`** in looping operations  \n",
    "- Use list methods **`.extend()`, `+, .reverse(), .sort()`**  \n",
    "- **convert between lists and strings using  `.split()` and `.join()`**\n",
    "- **cast strings to lists / direct multiple print outputs to a single line**"
   ]
  },
  {
   "cell_type": "markdown",
   "metadata": {},
   "source": [
    "# &nbsp;\n",
    "<font size=\"6\" color=\"#00A0B2\"  face=\"verdana\"> <B>Concepts</B></font>\n",
    "## Converting a string to a list with `.split()`\n",
    "### `.split()`  by default, splits a string at spaces (\" \") to create a list\n",
    "```python\n",
    "tip = \"Notebooks can be exported as .pdf\"\n",
    "tip_words = tip.split()\n",
    "\n",
    "for word in tip_words:\n",
    "    print(word)\n",
    "```"
   ]
  },
  {
   "cell_type": "markdown",
   "metadata": {},
   "source": [
    "\n",
    "<font size=\"4\" color=\"#00A0B2\"  face=\"verdana\"> <B>Examples</B></font>"
   ]
  },
  {
   "cell_type": "code",
   "execution_count": 172,
   "metadata": {},
   "outputs": [
    {
     "name": "stdout",
     "output_type": "stream",
     "text": [
      "STRING: Notebooks can be exported as .pdf\n",
      "LIST: ['Notebooks', 'can', 'be', 'exported', 'as', '.pdf'] \n",
      "\n",
      "Notebooks\n",
      "can\n",
      "be\n",
      "exported\n",
      "as\n",
      ".pdf\n"
     ]
    }
   ],
   "source": [
    "# [ ] review and run example\n",
    "tip = \"Notebooks can be exported as .pdf\"\n",
    "tip_words = tip.split()\n",
    "\n",
    "print(\"STRING:\", tip)\n",
    "print(\"LIST:\", tip_words, \"\\n\")\n",
    "\n",
    "for word in tip_words:\n",
    "    print(word)"
   ]
  },
  {
   "cell_type": "code",
   "execution_count": 173,
   "metadata": {},
   "outputs": [
    {
     "name": "stdout",
     "output_type": "stream",
     "text": [
      "down\n",
      "falling\n",
      "is\n",
      "bridge\n",
      "London\n"
     ]
    }
   ],
   "source": [
    "# [ ] review and run example\n",
    "rhyme = \"London bridge is falling down\"\n",
    "\n",
    "rhyme_words = rhyme.split()\n",
    "\n",
    "rhyme_words.reverse()\n",
    "\n",
    "for word in rhyme_words:\n",
    "    print(word)"
   ]
  },
  {
   "cell_type": "markdown",
   "metadata": {
    "collapsed": true
   },
   "source": [
    "# &nbsp;\n",
    "<font size=\"6\" color=\"#B24C00\"  face=\"verdana\"> <B>Task 14</B></font>\n",
    "\n",
    "### using `.split()`"
   ]
  },
  {
   "cell_type": "code",
   "execution_count": 174,
   "metadata": {},
   "outputs": [
    {
     "name": "stdout",
     "output_type": "stream",
     "text": [
      "Jack\n",
      "and\n",
      "Jill\n",
      "went\n",
      "up\n",
      "the\n",
      "hill\n",
      "To\n",
      "fetch\n",
      "a\n",
      "pail\n",
      "of\n",
      "water\n"
     ]
    }
   ],
   "source": [
    "# [ ] split the string(rhyme) into a list of words (rhyme_words)\n",
    "# [ ] print each word on it's own line\n",
    "rhyme = 'Jack and Jill went up the hill To fetch a pail of water' \n",
    "rhyme_words = rhyme.split()\n",
    "\n",
    "for word in rhyme_words:\n",
    "    print(word)"
   ]
  },
  {
   "cell_type": "code",
   "execution_count": 178,
   "metadata": {},
   "outputs": [
    {
     "name": "stdout",
     "output_type": "stream",
     "text": [
      "Python\n",
      "spaces\n",
      "indentation\n"
     ]
    }
   ],
   "source": [
    "# [ ] split code_tip into a list and print the first and every other word\n",
    "code_tip = \"Python uses spaces for indentation\"\n",
    "code_words = code_tip.split()\n",
    "\n",
    "for word in range(0,len(code_words),2):\n",
    "    print(code_words[word])\n"
   ]
  },
  {
   "cell_type": "markdown",
   "metadata": {},
   "source": [
    "# &nbsp;\n",
    "<font size=\"6\" color=\"#00A0B2\"  face=\"verdana\"> <B>Concepts</B></font>\n",
    "## `.split('-')`\n",
    "### to split on characters other than \" \" (space), provide `.split()` a string argument to use as break points\n",
    "```python \n",
    "code_tip = \"Python-uses-spaces-for-indentation\"\n",
    "tip_words = code_tip.split('-')\n",
    "```"
   ]
  },
  {
   "cell_type": "markdown",
   "metadata": {},
   "source": [
    "\n",
    "<font size=\"4\" color=\"#00A0B2\"  face=\"verdana\"> <B>Examples</B></font>  \n",
    "### `.split('-') : split with an argument"
   ]
  },
  {
   "cell_type": "code",
   "execution_count": 179,
   "metadata": {},
   "outputs": [
    {
     "name": "stdout",
     "output_type": "stream",
     "text": [
      "['Python', 'uses', 'spaces', 'for', 'indentation']\n"
     ]
    }
   ],
   "source": [
    "# [ ] review and run example\n",
    "code_tip = \"Python-uses-spaces-for-indentation\"\n",
    "tip_words = code_tip.split('-')\n",
    "\n",
    "print(tip_words)"
   ]
  },
  {
   "cell_type": "code",
   "execution_count": 180,
   "metadata": {},
   "outputs": [
    {
     "name": "stdout",
     "output_type": "stream",
     "text": [
      "Python uses spaces for indentation\n",
      "['Python uses sp', 'ces for indent', 'tion']\n"
     ]
    }
   ],
   "source": [
    "# [ ] review and run example - study the list print output\n",
    "code_tip = \"Python uses spaces for indentation\"\n",
    "\n",
    "# split on \"a\"\n",
    "tip_words = code_tip.split('a')\n",
    "print(code_tip)\n",
    "print(tip_words)"
   ]
  },
  {
   "cell_type": "code",
   "execution_count": 181,
   "metadata": {},
   "outputs": [
    {
     "name": "stdout",
     "output_type": "stream",
     "text": [
      "printed without line breaks ['Jack and Jill went up the hill', 'To fetch a pail of water', 'Jack fell down and broke his crown', 'And Jill came tumbling after'] \n",
      "\n",
      "And Jill came tumbling after\n",
      "Jack fell down and broke his crown\n",
      "To fetch a pail of water\n",
      "Jack and Jill went up the hill\n"
     ]
    }
   ],
   "source": [
    "# [ ] review and run example\n",
    "# triple quotes ''' ''' preserve formatting such as spaces and line breaks\n",
    "big_quote = \"\"\"Jack and Jill went up the hill\n",
    "To fetch a pail of water\n",
    "Jack fell down and broke his crown\n",
    "And Jill came tumbling after\"\"\"\n",
    "\n",
    "# split on line breaks (\\n)\n",
    "quote_lines = big_quote.split('\\n')\n",
    "print(\"printed without line breaks\",quote_lines, '\\n')\n",
    "\n",
    "# print the list in reverse with index slicing\n",
    "for line in quote_lines[::-1]:\n",
    "    print(line)\n"
   ]
  },
  {
   "cell_type": "markdown",
   "metadata": {
    "collapsed": true
   },
   "source": [
    "# &nbsp;\n",
    "<font size=\"6\" color=\"#B24C00\"  face=\"verdana\"> <B>Task 15</B></font>\n",
    "\n",
    "## `.split()`"
   ]
  },
  {
   "cell_type": "code",
   "execution_count": 183,
   "metadata": {},
   "outputs": [
    {
     "name": "stdout",
     "output_type": "stream",
     "text": [
      "Write code frequently\n",
      "Save code frequently\n",
      "Comment code frequently\n",
      "Study code frequently\n",
      "\n"
     ]
    }
   ],
   "source": [
    "# [ ] split poem into a list of phrases by splitting on \"*\" a\n",
    "# [ ] print each phrase on a new line in title case\n",
    "poem = \"Write code frequently*Save code frequently*Comment code frequently*Study code frequently*\"\n",
    "poem_split = poem.split(\"*\")\n",
    "\n",
    "for phrase in poem_split:\n",
    "    print(phrase)"
   ]
  },
  {
   "cell_type": "markdown",
   "metadata": {},
   "source": [
    "# &nbsp;\n",
    "<font size=\"6\" color=\"#00A0B2\"  face=\"verdana\"> <B>Concepts</B></font>  \n",
    "\n",
    "## `.join()` &nbsp; build a string from a list\n",
    "### `.join()` is a method applied to a separator string and iterates through its argument\n",
    "```python\n",
    "tip_words = ['Notebooks', 'can', 'be', 'exported', 'as', '.pdf'] \n",
    "\n",
    "\" \".join(tip_words)\n",
    "```\n",
    "a space (\" \") is the separator that gets injected between the objects in the argument (the list \"tip_words\")"
   ]
  },
  {
   "cell_type": "markdown",
   "metadata": {},
   "source": [
    "\n",
    "<font size=\"4\" color=\"#00A0B2\"  face=\"verdana\"> <B>Examples</B></font>  \n",
    "## `.join()`"
   ]
  },
  {
   "cell_type": "code",
   "execution_count": 184,
   "metadata": {},
   "outputs": [
    {
     "name": "stdout",
     "output_type": "stream",
     "text": [
      "Notebooks can be exported as .pdf\n"
     ]
    }
   ],
   "source": [
    "# [ ] review and run example\n",
    "tip_words = ['Notebooks', 'can', 'be', 'exported', 'as', '.pdf'] \n",
    "\n",
    "# join tip_words objects with spaces\n",
    "print(\" \".join(tip_words))"
   ]
  },
  {
   "cell_type": "code",
   "execution_count": 185,
   "metadata": {},
   "outputs": [
    {
     "name": "stdout",
     "output_type": "stream",
     "text": [
      "Python\n"
     ]
    }
   ],
   "source": [
    "# [ ] review and run example\n",
    "no_space = \"\"\n",
    "letters = [\"P\", \"y\", \"t\", \"h\", \"o\", \"n\"]\n",
    "print(no_space.join(letters))"
   ]
  },
  {
   "cell_type": "code",
   "execution_count": 186,
   "metadata": {},
   "outputs": [
    {
     "name": "stdout",
     "output_type": "stream",
     "text": [
      "I-t-e-r-a-t-i-o-n\n",
      "I t e r a t i o n\n",
      "I...t...e...r...a...t...i...o...n\n"
     ]
    }
   ],
   "source": [
    "# [ ] review and run example - .join() iterates through sequences\n",
    "dash = \"-\"\n",
    "space = \" \"\n",
    "word = \"Iteration\"\n",
    "ellipises = \"...\"\n",
    "\n",
    "dash_join = dash.join(word)\n",
    "print(dash_join)\n",
    "print(space.join(word))\n",
    "print(ellipises.join(word))"
   ]
  },
  {
   "cell_type": "markdown",
   "metadata": {
    "collapsed": true
   },
   "source": [
    "# &nbsp;\n",
    "<font size=\"6\" color=\"#B24C00\"  face=\"verdana\"> <B>Task 16</B></font>  \n",
    "## `.join()`"
   ]
  },
  {
   "cell_type": "code",
   "execution_count": 188,
   "metadata": {},
   "outputs": [
    {
     "name": "stdout",
     "output_type": "stream",
     "text": [
      "A*s*t*e*r*i*s*k\n"
     ]
    }
   ],
   "source": [
    "# [ ] .join() letters list objects with an Asterisk: \"*\"\n",
    "letters = [\"A\", \"s\", \"t\", \"e\", \"r\", \"i\", \"s\", \"k\"]\n",
    "asterik = \"*\"\n",
    "print(asterik.join(letters)) \n"
   ]
  },
  {
   "cell_type": "markdown",
   "metadata": {
    "collapsed": true
   },
   "source": [
    "# &nbsp;\n",
    "<font size=\"6\" color=\"#B24C00\"  face=\"verdana\"> <B>Task 17</B></font>  \n",
    "## Program: Choose the separator\n",
    "- get user input on what to use to join words (\" \", *, -, etc...) - store in variable: separator\n",
    "- join pharse_words with the separator and print"
   ]
  },
  {
   "cell_type": "code",
   "execution_count": 191,
   "metadata": {},
   "outputs": [
    {
     "name": "stdout",
     "output_type": "stream",
     "text": [
      "enter what should be used to join words (, *, -, etc...): -\n",
      "Jack-and-Jill-went-up-the-hill-To-fetch-a-pail-of-water\n"
     ]
    }
   ],
   "source": [
    "# [ ] complete Choose the separator\n",
    "phrase_words = ['Jack', 'and', 'Jill', 'went', 'up', 'the', 'hill', 'To', 'fetch', 'a', 'pail', 'of', 'water']\n",
    "\n",
    "separator = input(\"enter what should be used to join words (\" \", *, -, etc...): \")\n",
    "\n",
    "join_phrase_words = separator.join(phrase_words)\n",
    "\n",
    "print(join_phrase_words)"
   ]
  },
  {
   "cell_type": "markdown",
   "metadata": {},
   "source": [
    "# &nbsp;\n",
    "<font size=\"6\" color=\"#00A0B2\"  face=\"verdana\"> <B>Concept</B></font>\n",
    "## More Python string tools (tricks?)\n",
    "### Cast a string to a list of characters  \n",
    "```python\n",
    "hello_letters = list(\"Hello\")\n",
    "```\n",
    "### print to the same line with multiple print statements (`end=`)\n",
    "or insert any character as an end in print(\"String\", end=\"+\")\n",
    "```python\n",
    "print('Hello', end = '')\n",
    "print('world')\n",
    "```"
   ]
  },
  {
   "cell_type": "markdown",
   "metadata": {},
   "source": [
    "\n",
    "<font size=\"4\" color=\"#00A0B2\"  face=\"verdana\"> <B>Examples</B></font>"
   ]
  },
  {
   "cell_type": "code",
   "execution_count": 192,
   "metadata": {},
   "outputs": [
    {
     "name": "stdout",
     "output_type": "stream",
     "text": [
      "['H', 'e', 'l', 'l', 'o']\n"
     ]
    }
   ],
   "source": [
    "# [ ] review and run example\n",
    "hello_letters = list(\"Hello\")\n",
    "print(hello_letters)"
   ]
  },
  {
   "cell_type": "code",
   "execution_count": 193,
   "metadata": {},
   "outputs": [
    {
     "name": "stdout",
     "output_type": "stream",
     "text": [
      "c~o~n~c~a~t~e~n~a~t~e~s\n"
     ]
    }
   ],
   "source": [
    "# [ ] review and run example\n",
    "# cast sting to list\n",
    "word_letters = list(\"concatenates\")\n",
    "\n",
    "# .join() concatenates the list\n",
    "# print on same line setting the end character\n",
    "print('~'.join(word_letters))"
   ]
  },
  {
   "cell_type": "code",
   "execution_count": 196,
   "metadata": {},
   "outputs": [
    {
     "name": "stdout",
     "output_type": "stream",
     "text": [
      "Hello world\n"
     ]
    }
   ],
   "source": [
    "# [ ] review and run example\n",
    "print(\"Hello \", end = '')\n",
    "print(\"world\")"
   ]
  },
  {
   "cell_type": "code",
   "execution_count": 66,
   "metadata": {},
   "outputs": [
    {
     "name": "stdout",
     "output_type": "stream",
     "text": [
      "Hello World!\n",
      "still something to learn about print()\n"
     ]
    }
   ],
   "source": [
    "# [ ] review and run example\n",
    "# This  is the default print end\n",
    "print(\"Hello World!\", end=\"\\n\")\n",
    "print('still something to learn about print()')"
   ]
  },
  {
   "cell_type": "code",
   "execution_count": 197,
   "metadata": {},
   "outputs": [
    {
     "name": "stdout",
     "output_type": "stream",
     "text": [
      "C*o*n*c*a*t*e*n*a*t*i*o*n*"
     ]
    }
   ],
   "source": [
    "# [ ] review and run example\n",
    "# end inserts any valid str character: A-z, 0-9,!,@,*,\\n,\\t or ''(empty string)...\n",
    "for letter in \"Concatenation\":\n",
    "    print(letter, end='*')"
   ]
  },
  {
   "cell_type": "markdown",
   "metadata": {},
   "source": [
    "# &nbsp;\n",
    "<font size=\"6\" color=\"#B24C00\"  face=\"verdana\"> <B>Task 18</B></font>\n",
    "## `end=\" \" ` configuration in printing\n",
    "`print('The String', end='')`"
   ]
  },
  {
   "cell_type": "code",
   "execution_count": 199,
   "metadata": {},
   "outputs": [
    {
     "name": "stdout",
     "output_type": "stream",
     "text": [
      "Ya daddy- ya mutha- and ya daddy's daddy-"
     ]
    }
   ],
   "source": [
    "# [ ] use 3 print() statements to output text to one line \n",
    "# [ ] separate the lines by using \"- \" (dash space)\n",
    "\n",
    "print('Ya daddy', end = '- ')\n",
    "print('ya mutha', end = '- ')\n",
    "print('and ya daddy\\'s daddy', end = '-')"
   ]
  },
  {
   "cell_type": "markdown",
   "metadata": {},
   "source": [
    "# &nbsp;\n",
    "<font size=\"6\" color=\"#B24C00\"  face=\"verdana\"> <B>Task 19</B></font>\n",
    "## cast: str to list\n",
    "`Msg_characters = list(\"Always test your code\")`"
   ]
  },
  {
   "cell_type": "code",
   "execution_count": 201,
   "metadata": {},
   "outputs": [
    {
     "name": "stdout",
     "output_type": "stream",
     "text": [
      "If\n",
      "you\n",
      "wink\n",
      "twice\n",
      "then\n",
      "spin,\n",
      "it\n",
      "will\n",
      "start\n",
      "raining."
     ]
    }
   ],
   "source": [
    "# [ ] create a string (fact) of 20 or more characters and cast to a list (fact_letters)\n",
    "# [ ] iterate fact, printing each char on one line, except for spaces print a new line\n",
    "fact_letters = \"If you wink twice then spin, it will start raining.\"\n",
    "\n",
    "for letters in fact_letters:\n",
    "    if letters == \" \":\n",
    "        print()\n",
    "    else:\n",
    "        print(letters, end='')\n"
   ]
  },
  {
   "cell_type": "markdown",
   "metadata": {
    "collapsed": true
   },
   "source": [
    "# &nbsp;  \n",
    "<font size=\"6\" color=\"#B24C00\"  face=\"verdana\"> <B>Task 20</B></font>  \n",
    "## Program: add the digits\n",
    "- create a 20 digit string, and cast to a list\n",
    "- then add all the digits as integers\n",
    "- print the equation and answer  \n",
    "\n",
    "Hint: use cast to sum the digits, and .join() to create the equation (1+2+3+...)"
   ]
  },
  {
   "cell_type": "code",
   "execution_count": 206,
   "metadata": {},
   "outputs": [
    {
     "name": "stdout",
     "output_type": "stream",
     "text": [
      "1 + 2 + 3 + 4 + 5 + 6 + 7 + 8 + 9 + 0 + 0 + 9 + 8 + 7 + 6 + 5 + 4 + 3 + 2 + 1 = 90\n"
     ]
    }
   ],
   "source": [
    "# [ ] create add the digits\n",
    "digits = '12345678900987654321'\n",
    "digits_list = list(digits)\n",
    "\n",
    "total = 0\n",
    "\n",
    "for digit in digits_list:\n",
    "    digit = int(digit)\n",
    "    total += digit\n",
    "    \n",
    "print(\" + \".join(digits_list), \"=\", total)"
   ]
  },
  {
   "cell_type": "code",
   "execution_count": null,
   "metadata": {},
   "outputs": [],
   "source": []
  },
  {
   "cell_type": "markdown",
   "metadata": {
    "collapsed": true
   },
   "source": [
    "© 2017 Microsoft adapted with persmission by Dominic Thomas"
   ]
  }
 ],
 "metadata": {
  "anaconda-cloud": {},
  "kernelspec": {
   "display_name": "Python 3 (ipykernel)",
   "language": "python",
   "name": "python3"
  },
  "language_info": {
   "codemirror_mode": {
    "name": "ipython",
    "version": 3
   },
   "file_extension": ".py",
   "mimetype": "text/x-python",
   "name": "python",
   "nbconvert_exporter": "python",
   "pygments_lexer": "ipython3",
   "version": "3.11.5"
  }
 },
 "nbformat": 4,
 "nbformat_minor": 1
}
